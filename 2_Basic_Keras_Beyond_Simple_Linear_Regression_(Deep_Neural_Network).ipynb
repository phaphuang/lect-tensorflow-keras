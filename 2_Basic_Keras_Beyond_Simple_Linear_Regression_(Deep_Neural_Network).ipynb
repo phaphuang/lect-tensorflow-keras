{
  "nbformat": 4,
  "nbformat_minor": 0,
  "metadata": {
    "colab": {
      "name": "2.Basic Keras - Beyond Simple Linear Regression (Deep Neural Network).ipynb",
      "provenance": [],
      "collapsed_sections": []
    },
    "kernelspec": {
      "name": "python3",
      "display_name": "Python 3"
    }
  },
  "cells": [
    {
      "cell_type": "markdown",
      "metadata": {
        "id": "n61_hgH1t2DP"
      },
      "source": [
        "source: https://towardsdatascience.com/house-prices-prediction-using-deep-learning-dea265cc3154\n",
        "https://medium.com/analytics-vidhya/house-price-prediction-regression-with-tensorflow-keras-4fc49fae7123"
      ]
    },
    {
      "cell_type": "code",
      "metadata": {
        "id": "YtMGgvw5nN_P"
      },
      "source": [
        "import pandas as pd\n",
        "import numpy as np\n",
        "import matplotlib.pyplot as plt\n",
        "import seaborn as sns\n",
        "%matplotlib inline"
      ],
      "execution_count": null,
      "outputs": []
    },
    {
      "cell_type": "code",
      "metadata": {
        "id": "uzCgImoZntnT",
        "colab": {
          "base_uri": "https://localhost:8080/"
        },
        "outputId": "20f836b6-34b3-4f18-e764-c18c7c407445"
      },
      "source": [
        "!wget https://raw.githubusercontent.com/Harshita9511/House-Price-Prediction-Regression-with-Tensorflow-Keras-/master/housing.csv"
      ],
      "execution_count": null,
      "outputs": [
        {
          "output_type": "stream",
          "text": [
            "--2020-11-15 22:12:46--  https://raw.githubusercontent.com/Harshita9511/House-Price-Prediction-Regression-with-Tensorflow-Keras-/master/housing.csv\n",
            "Resolving raw.githubusercontent.com (raw.githubusercontent.com)... 151.101.0.133, 151.101.64.133, 151.101.128.133, ...\n",
            "Connecting to raw.githubusercontent.com (raw.githubusercontent.com)|151.101.0.133|:443... connected.\n",
            "HTTP request sent, awaiting response... 200 OK\n",
            "Length: 1423529 (1.4M) [text/plain]\n",
            "Saving to: ‘housing.csv’\n",
            "\n",
            "housing.csv         100%[===================>]   1.36M  --.-KB/s    in 0.09s   \n",
            "\n",
            "2020-11-15 22:12:46 (15.7 MB/s) - ‘housing.csv’ saved [1423529/1423529]\n",
            "\n"
          ],
          "name": "stdout"
        }
      ]
    },
    {
      "cell_type": "code",
      "metadata": {
        "id": "GXLZGUMznpLH",
        "colab": {
          "base_uri": "https://localhost:8080/",
          "height": 195
        },
        "outputId": "52ca94fc-668f-48df-b831-b7a51e93e2d5"
      },
      "source": [
        "df=pd.read_csv(\"housing.csv\")\n",
        "df.head()"
      ],
      "execution_count": null,
      "outputs": [
        {
          "output_type": "execute_result",
          "data": {
            "text/html": [
              "<div>\n",
              "<style scoped>\n",
              "    .dataframe tbody tr th:only-of-type {\n",
              "        vertical-align: middle;\n",
              "    }\n",
              "\n",
              "    .dataframe tbody tr th {\n",
              "        vertical-align: top;\n",
              "    }\n",
              "\n",
              "    .dataframe thead th {\n",
              "        text-align: right;\n",
              "    }\n",
              "</style>\n",
              "<table border=\"1\" class=\"dataframe\">\n",
              "  <thead>\n",
              "    <tr style=\"text-align: right;\">\n",
              "      <th></th>\n",
              "      <th>longitude</th>\n",
              "      <th>latitude</th>\n",
              "      <th>housing_median_age</th>\n",
              "      <th>total_rooms</th>\n",
              "      <th>total_bedrooms</th>\n",
              "      <th>population</th>\n",
              "      <th>households</th>\n",
              "      <th>median_income</th>\n",
              "      <th>median_house_value</th>\n",
              "      <th>ocean_proximity</th>\n",
              "    </tr>\n",
              "  </thead>\n",
              "  <tbody>\n",
              "    <tr>\n",
              "      <th>0</th>\n",
              "      <td>-122.23</td>\n",
              "      <td>37.88</td>\n",
              "      <td>41.0</td>\n",
              "      <td>880.0</td>\n",
              "      <td>129.0</td>\n",
              "      <td>322.0</td>\n",
              "      <td>126.0</td>\n",
              "      <td>8.3252</td>\n",
              "      <td>452600.0</td>\n",
              "      <td>NEAR BAY</td>\n",
              "    </tr>\n",
              "    <tr>\n",
              "      <th>1</th>\n",
              "      <td>-122.22</td>\n",
              "      <td>37.86</td>\n",
              "      <td>21.0</td>\n",
              "      <td>7099.0</td>\n",
              "      <td>1106.0</td>\n",
              "      <td>2401.0</td>\n",
              "      <td>1138.0</td>\n",
              "      <td>8.3014</td>\n",
              "      <td>358500.0</td>\n",
              "      <td>NEAR BAY</td>\n",
              "    </tr>\n",
              "    <tr>\n",
              "      <th>2</th>\n",
              "      <td>-122.24</td>\n",
              "      <td>37.85</td>\n",
              "      <td>52.0</td>\n",
              "      <td>1467.0</td>\n",
              "      <td>190.0</td>\n",
              "      <td>496.0</td>\n",
              "      <td>177.0</td>\n",
              "      <td>7.2574</td>\n",
              "      <td>352100.0</td>\n",
              "      <td>NEAR BAY</td>\n",
              "    </tr>\n",
              "    <tr>\n",
              "      <th>3</th>\n",
              "      <td>-122.25</td>\n",
              "      <td>37.85</td>\n",
              "      <td>52.0</td>\n",
              "      <td>1274.0</td>\n",
              "      <td>235.0</td>\n",
              "      <td>558.0</td>\n",
              "      <td>219.0</td>\n",
              "      <td>5.6431</td>\n",
              "      <td>341300.0</td>\n",
              "      <td>NEAR BAY</td>\n",
              "    </tr>\n",
              "    <tr>\n",
              "      <th>4</th>\n",
              "      <td>-122.25</td>\n",
              "      <td>37.85</td>\n",
              "      <td>52.0</td>\n",
              "      <td>1627.0</td>\n",
              "      <td>280.0</td>\n",
              "      <td>565.0</td>\n",
              "      <td>259.0</td>\n",
              "      <td>3.8462</td>\n",
              "      <td>342200.0</td>\n",
              "      <td>NEAR BAY</td>\n",
              "    </tr>\n",
              "  </tbody>\n",
              "</table>\n",
              "</div>"
            ],
            "text/plain": [
              "   longitude  latitude  ...  median_house_value  ocean_proximity\n",
              "0    -122.23     37.88  ...            452600.0         NEAR BAY\n",
              "1    -122.22     37.86  ...            358500.0         NEAR BAY\n",
              "2    -122.24     37.85  ...            352100.0         NEAR BAY\n",
              "3    -122.25     37.85  ...            341300.0         NEAR BAY\n",
              "4    -122.25     37.85  ...            342200.0         NEAR BAY\n",
              "\n",
              "[5 rows x 10 columns]"
            ]
          },
          "metadata": {
            "tags": []
          },
          "execution_count": 3
        }
      ]
    },
    {
      "cell_type": "code",
      "metadata": {
        "id": "rlcbc13KnrRC",
        "colab": {
          "base_uri": "https://localhost:8080/"
        },
        "outputId": "263e8ecd-2405-454e-ef5c-d0db755564da"
      },
      "source": [
        "df.info()"
      ],
      "execution_count": null,
      "outputs": [
        {
          "output_type": "stream",
          "text": [
            "<class 'pandas.core.frame.DataFrame'>\n",
            "RangeIndex: 20640 entries, 0 to 20639\n",
            "Data columns (total 10 columns):\n",
            " #   Column              Non-Null Count  Dtype  \n",
            "---  ------              --------------  -----  \n",
            " 0   longitude           20640 non-null  float64\n",
            " 1   latitude            20640 non-null  float64\n",
            " 2   housing_median_age  20640 non-null  float64\n",
            " 3   total_rooms         20640 non-null  float64\n",
            " 4   total_bedrooms      20433 non-null  float64\n",
            " 5   population          20640 non-null  float64\n",
            " 6   households          20640 non-null  float64\n",
            " 7   median_income       20640 non-null  float64\n",
            " 8   median_house_value  20640 non-null  float64\n",
            " 9   ocean_proximity     20640 non-null  object \n",
            "dtypes: float64(9), object(1)\n",
            "memory usage: 1.6+ MB\n"
          ],
          "name": "stdout"
        }
      ]
    },
    {
      "cell_type": "code",
      "metadata": {
        "id": "ll1mhDx2qVpy",
        "colab": {
          "base_uri": "https://localhost:8080/"
        },
        "outputId": "e6c5aa39-ba71-4e19-d55a-9f0000200319"
      },
      "source": [
        "df.isnull().sum()"
      ],
      "execution_count": null,
      "outputs": [
        {
          "output_type": "execute_result",
          "data": {
            "text/plain": [
              "longitude               0\n",
              "latitude                0\n",
              "housing_median_age      0\n",
              "total_rooms             0\n",
              "total_bedrooms        207\n",
              "population              0\n",
              "households              0\n",
              "median_income           0\n",
              "median_house_value      0\n",
              "ocean_proximity         0\n",
              "dtype: int64"
            ]
          },
          "metadata": {
            "tags": []
          },
          "execution_count": 5
        }
      ]
    },
    {
      "cell_type": "code",
      "metadata": {
        "id": "s3LIt_oCqZip",
        "colab": {
          "base_uri": "https://localhost:8080/"
        },
        "outputId": "aee9ca8b-66c9-48a4-cc04-4aacd0bc598a"
      },
      "source": [
        "df.dropna(inplace=True)\n",
        "df=df.drop('ocean_proximity', axis=1)\n",
        "df.columns"
      ],
      "execution_count": null,
      "outputs": [
        {
          "output_type": "execute_result",
          "data": {
            "text/plain": [
              "Index(['longitude', 'latitude', 'housing_median_age', 'total_rooms',\n",
              "       'total_bedrooms', 'population', 'households', 'median_income',\n",
              "       'median_house_value'],\n",
              "      dtype='object')"
            ]
          },
          "metadata": {
            "tags": []
          },
          "execution_count": 6
        }
      ]
    },
    {
      "cell_type": "code",
      "metadata": {
        "id": "fC-DiL-JqbE8",
        "colab": {
          "base_uri": "https://localhost:8080/",
          "height": 284
        },
        "outputId": "8ff33b75-8950-4217-d99c-021e8ec506fa"
      },
      "source": [
        "df.describe()"
      ],
      "execution_count": null,
      "outputs": [
        {
          "output_type": "execute_result",
          "data": {
            "text/html": [
              "<div>\n",
              "<style scoped>\n",
              "    .dataframe tbody tr th:only-of-type {\n",
              "        vertical-align: middle;\n",
              "    }\n",
              "\n",
              "    .dataframe tbody tr th {\n",
              "        vertical-align: top;\n",
              "    }\n",
              "\n",
              "    .dataframe thead th {\n",
              "        text-align: right;\n",
              "    }\n",
              "</style>\n",
              "<table border=\"1\" class=\"dataframe\">\n",
              "  <thead>\n",
              "    <tr style=\"text-align: right;\">\n",
              "      <th></th>\n",
              "      <th>longitude</th>\n",
              "      <th>latitude</th>\n",
              "      <th>housing_median_age</th>\n",
              "      <th>total_rooms</th>\n",
              "      <th>total_bedrooms</th>\n",
              "      <th>population</th>\n",
              "      <th>households</th>\n",
              "      <th>median_income</th>\n",
              "      <th>median_house_value</th>\n",
              "    </tr>\n",
              "  </thead>\n",
              "  <tbody>\n",
              "    <tr>\n",
              "      <th>count</th>\n",
              "      <td>20433.000000</td>\n",
              "      <td>20433.000000</td>\n",
              "      <td>20433.000000</td>\n",
              "      <td>20433.000000</td>\n",
              "      <td>20433.000000</td>\n",
              "      <td>20433.000000</td>\n",
              "      <td>20433.000000</td>\n",
              "      <td>20433.000000</td>\n",
              "      <td>20433.000000</td>\n",
              "    </tr>\n",
              "    <tr>\n",
              "      <th>mean</th>\n",
              "      <td>-119.570689</td>\n",
              "      <td>35.633221</td>\n",
              "      <td>28.633094</td>\n",
              "      <td>2636.504233</td>\n",
              "      <td>537.870553</td>\n",
              "      <td>1424.946949</td>\n",
              "      <td>499.433465</td>\n",
              "      <td>3.871162</td>\n",
              "      <td>206864.413155</td>\n",
              "    </tr>\n",
              "    <tr>\n",
              "      <th>std</th>\n",
              "      <td>2.003578</td>\n",
              "      <td>2.136348</td>\n",
              "      <td>12.591805</td>\n",
              "      <td>2185.269567</td>\n",
              "      <td>421.385070</td>\n",
              "      <td>1133.208490</td>\n",
              "      <td>382.299226</td>\n",
              "      <td>1.899291</td>\n",
              "      <td>115435.667099</td>\n",
              "    </tr>\n",
              "    <tr>\n",
              "      <th>min</th>\n",
              "      <td>-124.350000</td>\n",
              "      <td>32.540000</td>\n",
              "      <td>1.000000</td>\n",
              "      <td>2.000000</td>\n",
              "      <td>1.000000</td>\n",
              "      <td>3.000000</td>\n",
              "      <td>1.000000</td>\n",
              "      <td>0.499900</td>\n",
              "      <td>14999.000000</td>\n",
              "    </tr>\n",
              "    <tr>\n",
              "      <th>25%</th>\n",
              "      <td>-121.800000</td>\n",
              "      <td>33.930000</td>\n",
              "      <td>18.000000</td>\n",
              "      <td>1450.000000</td>\n",
              "      <td>296.000000</td>\n",
              "      <td>787.000000</td>\n",
              "      <td>280.000000</td>\n",
              "      <td>2.563700</td>\n",
              "      <td>119500.000000</td>\n",
              "    </tr>\n",
              "    <tr>\n",
              "      <th>50%</th>\n",
              "      <td>-118.490000</td>\n",
              "      <td>34.260000</td>\n",
              "      <td>29.000000</td>\n",
              "      <td>2127.000000</td>\n",
              "      <td>435.000000</td>\n",
              "      <td>1166.000000</td>\n",
              "      <td>409.000000</td>\n",
              "      <td>3.536500</td>\n",
              "      <td>179700.000000</td>\n",
              "    </tr>\n",
              "    <tr>\n",
              "      <th>75%</th>\n",
              "      <td>-118.010000</td>\n",
              "      <td>37.720000</td>\n",
              "      <td>37.000000</td>\n",
              "      <td>3143.000000</td>\n",
              "      <td>647.000000</td>\n",
              "      <td>1722.000000</td>\n",
              "      <td>604.000000</td>\n",
              "      <td>4.744000</td>\n",
              "      <td>264700.000000</td>\n",
              "    </tr>\n",
              "    <tr>\n",
              "      <th>max</th>\n",
              "      <td>-114.310000</td>\n",
              "      <td>41.950000</td>\n",
              "      <td>52.000000</td>\n",
              "      <td>39320.000000</td>\n",
              "      <td>6445.000000</td>\n",
              "      <td>35682.000000</td>\n",
              "      <td>6082.000000</td>\n",
              "      <td>15.000100</td>\n",
              "      <td>500001.000000</td>\n",
              "    </tr>\n",
              "  </tbody>\n",
              "</table>\n",
              "</div>"
            ],
            "text/plain": [
              "          longitude      latitude  ...  median_income  median_house_value\n",
              "count  20433.000000  20433.000000  ...   20433.000000        20433.000000\n",
              "mean    -119.570689     35.633221  ...       3.871162       206864.413155\n",
              "std        2.003578      2.136348  ...       1.899291       115435.667099\n",
              "min     -124.350000     32.540000  ...       0.499900        14999.000000\n",
              "25%     -121.800000     33.930000  ...       2.563700       119500.000000\n",
              "50%     -118.490000     34.260000  ...       3.536500       179700.000000\n",
              "75%     -118.010000     37.720000  ...       4.744000       264700.000000\n",
              "max     -114.310000     41.950000  ...      15.000100       500001.000000\n",
              "\n",
              "[8 rows x 9 columns]"
            ]
          },
          "metadata": {
            "tags": []
          },
          "execution_count": 7
        }
      ]
    },
    {
      "cell_type": "code",
      "metadata": {
        "id": "Zs8aUG5XqfS1"
      },
      "source": [
        "# plt.figure(figsize=(8,4))\n",
        "# sns.distplot(df['median_house_value'])"
      ],
      "execution_count": null,
      "outputs": []
    },
    {
      "cell_type": "code",
      "metadata": {
        "id": "qEa9qGbXqhMR"
      },
      "source": [
        "# plt.figure(figsize=(12,8))\n",
        "# sns.scatterplot(x='median_house_value',y='longitude',data=df)"
      ],
      "execution_count": null,
      "outputs": []
    },
    {
      "cell_type": "code",
      "metadata": {
        "id": "ehGmw9hVqpOd"
      },
      "source": [
        "# plt.figure(figsize=(12,8))\n",
        "# sns.scatterplot(x='median_house_value',y='latitude',data=df)"
      ],
      "execution_count": null,
      "outputs": []
    },
    {
      "cell_type": "code",
      "metadata": {
        "id": "kChvSH-VqyQW"
      },
      "source": [
        "# plt.figure(figsize=(12,8))\n",
        "# sns.scatterplot(x='longitude',y='latitude',data=df,hue='median_house_value')"
      ],
      "execution_count": null,
      "outputs": []
    },
    {
      "cell_type": "code",
      "metadata": {
        "id": "Iq3qYYgqq3n4",
        "colab": {
          "base_uri": "https://localhost:8080/",
          "height": 600
        },
        "outputId": "9d2f4111-65a0-41f3-a151-985d2849ab7e"
      },
      "source": [
        "plt.figure(figsize=(10,8))\n",
        "sns.heatmap(df.corr(), annot=True)"
      ],
      "execution_count": null,
      "outputs": [
        {
          "output_type": "execute_result",
          "data": {
            "text/plain": [
              "<matplotlib.axes._subplots.AxesSubplot at 0x7f3fabd09c88>"
            ]
          },
          "metadata": {
            "tags": []
          },
          "execution_count": 12
        },
        {
          "output_type": "display_data",
          "data": {
            "image/png": "[encoded data removed]",
            "text/plain": [
              "<Figure size 720x576 with 2 Axes>"
            ]
          },
          "metadata": {
            "tags": [],
            "needs_background": "light"
          }
        }
      ]
    },
    {
      "cell_type": "markdown",
      "metadata": {
        "id": "e4BR81_krCEp"
      },
      "source": [
        "### Spliting into Train and Test set"
      ]
    },
    {
      "cell_type": "code",
      "metadata": {
        "id": "5n2jUsqsq8A_"
      },
      "source": [
        "X = df.drop('median_house_value',axis=1)\n",
        "y = df['median_house_value']\n",
        "\n",
        "from sklearn.model_selection import train_test_split\n",
        "X_train, X_test, y_train, y_test = train_test_split(X,y,test_size=0.2,random_state=42)"
      ],
      "execution_count": null,
      "outputs": []
    },
    {
      "cell_type": "markdown",
      "metadata": {
        "id": "NgcvAu5zrSqy"
      },
      "source": [
        "### Normalizing data into range (0,1)\n",
        "source: https://arshpreetsingh.wordpress.com/2017/03/09/preprocessing-your-data-and-why/\n",
        "<br>\n",
        "$$x_{new}=\\frac{x-x_{min}}{x_{max}-x_{min}}$$"
      ]
    },
    {
      "cell_type": "code",
      "metadata": {
        "id": "3nDqSpCkrSAM"
      },
      "source": [
        "from sklearn.preprocessing import MinMaxScaler\n",
        "scaler = MinMaxScaler()\n",
        "X_train= scaler.fit_transform(X_train)\n",
        "X_test = scaler.transform(X_test)"
      ],
      "execution_count": null,
      "outputs": []
    },
    {
      "cell_type": "code",
      "metadata": {
        "id": "QeCzS9HNQ38v",
        "colab": {
          "base_uri": "https://localhost:8080/"
        },
        "outputId": "ca693cca-40c5-480c-9e98-2a1bfa973356"
      },
      "source": [
        "X_train[:3]"
      ],
      "execution_count": null,
      "outputs": [
        {
          "output_type": "execute_result",
          "data": {
            "text/plain": [
              "array([[0.25809717, 0.50797024, 0.25490196, 0.11216237, 0.14323402,\n",
              "        0.07553463, 0.14635751, 0.28984428],\n",
              "       [0.47773279, 0.4357067 , 0.62745098, 0.02629839, 0.02793296,\n",
              "        0.01729309, 0.02844927, 0.20074206],\n",
              "       [0.63663968, 0.16790648, 0.47058824, 0.09891144, 0.1314401 ,\n",
              "        0.05171109, 0.12465055, 0.21820389]])"
            ]
          },
          "metadata": {
            "tags": []
          },
          "execution_count": 15
        }
      ]
    },
    {
      "cell_type": "code",
      "metadata": {
        "id": "nTnGzlX7vwYJ",
        "colab": {
          "base_uri": "https://localhost:8080/"
        },
        "outputId": "c393ee3d-01a3-43d7-8309-0e34c18abf21"
      },
      "source": [
        "X_train.shape, y_train.shape"
      ],
      "execution_count": null,
      "outputs": [
        {
          "output_type": "execute_result",
          "data": {
            "text/plain": [
              "((16346, 8), (16346,))"
            ]
          },
          "metadata": {
            "tags": []
          },
          "execution_count": 16
        }
      ]
    },
    {
      "cell_type": "markdown",
      "metadata": {
        "id": "GnZykCFkUVog"
      },
      "source": [
        "### Creating 2 layers neuron network model"
      ]
    },
    {
      "cell_type": "code",
      "metadata": {
        "id": "k5UTXKjRUe82"
      },
      "source": [
        "from tensorflow.keras.models import Sequential\n",
        "from tensorflow.keras.layers import Dense\n",
        "\n",
        "model = Sequential()\n",
        "model.add(Dense(10,activation='relu'))\n",
        "model.add(Dense(1))\n",
        "model.compile(optimizer='adam', loss='mse')"
      ],
      "execution_count": null,
      "outputs": []
    },
    {
      "cell_type": "markdown",
      "metadata": {
        "id": "vlMnZeMWYmcP"
      },
      "source": [
        "![](https://drive.google.com/uc?export=view&id=10gljfr8TjV00ASNwOrqb69cf0MZpRIcM)"
      ]
    },
    {
      "cell_type": "markdown",
      "metadata": {
        "id": "HEr2RBqJfEgK"
      },
      "source": [
        "#### **Activation Function**\n",
        "more: https://www.youtube.com/watch?v=m0pIlLfpXWE\n",
        "![](https://cdn-images-1.medium.com/freeze/max/1000/1*4ZEDRpFuCIpUjNgjDdT2Lg.png?q=20)"
      ]
    },
    {
      "cell_type": "markdown",
      "metadata": {
        "id": "wmAmBKh0fzPY"
      },
      "source": [
        "#### **Adam optimizer**\n",
        "Adam uses Momentum and Adaptive Learning Rates to converge faster. (more: https://mlfromscratch.com/optimizers-explained/#/)\n",
        "![](https://miro.medium.com/max/1200/1*U224pqhF4WUOZhfmDIWtxA.gif)"
      ]
    },
    {
      "cell_type": "code",
      "metadata": {
        "id": "BjZoIjVVVGdF",
        "colab": {
          "base_uri": "https://localhost:8080/"
        },
        "outputId": "b91578fe-a0bd-49b2-afcb-8a1b6f90f466"
      },
      "source": [
        "model.fit(x=X_train,\n",
        "          y=y_train,\n",
        "          validation_data=(X_test,y_test.values),\n",
        "          batch_size=32,\n",
        "          epochs=100)"
      ],
      "execution_count": null,
      "outputs": [
        {
          "output_type": "stream",
          "text": [
            "Epoch 1/100\n",
            "511/511 [==============================] - 1s 1ms/step - loss: 55936929792.0000 - val_loss: 56827301888.0000\n",
            "Epoch 2/100\n",
            "511/511 [==============================] - 1s 1ms/step - loss: 55926607872.0000 - val_loss: 56812523520.0000\n",
            "Epoch 3/100\n",
            "511/511 [==============================] - 1s 1ms/step - loss: 55908126720.0000 - val_loss: 56790224896.0000\n",
            "Epoch 4/100\n",
            "511/511 [==============================] - 1s 994us/step - loss: 55882719232.0000 - val_loss: 56761397248.0000\n",
            "Epoch 5/100\n",
            "511/511 [==============================] - 1s 1ms/step - loss: 55851159552.0000 - val_loss: 56726740992.0000\n",
            "Epoch 6/100\n",
            "511/511 [==============================] - 1s 992us/step - loss: 55814209536.0000 - val_loss: 56686829568.0000\n",
            "Epoch 7/100\n",
            "511/511 [==============================] - 1s 1ms/step - loss: 55772196864.0000 - val_loss: 56642064384.0000\n",
            "Epoch 8/100\n",
            "511/511 [==============================] - 1s 991us/step - loss: 55725445120.0000 - val_loss: 56592576512.0000\n",
            "Epoch 9/100\n",
            "511/511 [==============================] - 1s 1ms/step - loss: 55674105856.0000 - val_loss: 56538648576.0000\n",
            "Epoch 10/100\n",
            "511/511 [==============================] - 1s 980us/step - loss: 55618568192.0000 - val_loss: 56480473088.0000\n",
            "Epoch 11/100\n",
            "511/511 [==============================] - 1s 1ms/step - loss: 55558701056.0000 - val_loss: 56418009088.0000\n",
            "Epoch 12/100\n",
            "511/511 [==============================] - 1s 1ms/step - loss: 55494725632.0000 - val_loss: 56351334400.0000\n",
            "Epoch 13/100\n",
            "511/511 [==============================] - 1s 1ms/step - loss: 55426646016.0000 - val_loss: 56280657920.0000\n",
            "Epoch 14/100\n",
            "511/511 [==============================] - 1s 1ms/step - loss: 55354540032.0000 - val_loss: 56205950976.0000\n",
            "Epoch 15/100\n",
            "511/511 [==============================] - 1s 1000us/step - loss: 55278551040.0000 - val_loss: 56127377408.0000\n",
            "Epoch 16/100\n",
            "511/511 [==============================] - 1s 999us/step - loss: 55198576640.0000 - val_loss: 56044621824.0000\n",
            "Epoch 17/100\n",
            "511/511 [==============================] - 1s 984us/step - loss: 55114653696.0000 - val_loss: 55958016000.0000\n",
            "Epoch 18/100\n",
            "511/511 [==============================] - 1s 995us/step - loss: 55026831360.0000 - val_loss: 55867465728.0000\n",
            "Epoch 19/100\n",
            "511/511 [==============================] - 1s 1ms/step - loss: 54935105536.0000 - val_loss: 55773130752.0000\n",
            "Epoch 20/100\n",
            "511/511 [==============================] - 1s 1ms/step - loss: 54839627776.0000 - val_loss: 55674830848.0000\n",
            "Epoch 21/100\n",
            "511/511 [==============================] - 1s 1ms/step - loss: 54740275200.0000 - val_loss: 55572692992.0000\n",
            "Epoch 22/100\n",
            "511/511 [==============================] - 1s 990us/step - loss: 54637150208.0000 - val_loss: 55466733568.0000\n",
            "Epoch 23/100\n",
            "511/511 [==============================] - 1s 1ms/step - loss: 54530330624.0000 - val_loss: 55357255680.0000\n",
            "Epoch 24/100\n",
            "511/511 [==============================] - 1s 1ms/step - loss: 54419791872.0000 - val_loss: 55243808768.0000\n",
            "Epoch 25/100\n",
            "511/511 [==============================] - 1s 999us/step - loss: 54305566720.0000 - val_loss: 55126712320.0000\n",
            "Epoch 26/100\n",
            "511/511 [==============================] - 1s 1ms/step - loss: 54187687936.0000 - val_loss: 55005995008.0000\n",
            "Epoch 27/100\n",
            "511/511 [==============================] - 1s 1ms/step - loss: 54066110464.0000 - val_loss: 54881513472.0000\n",
            "Epoch 28/100\n",
            "511/511 [==============================] - 1s 1ms/step - loss: 53940944896.0000 - val_loss: 54753374208.0000\n",
            "Epoch 29/100\n",
            "511/511 [==============================] - 1s 1ms/step - loss: 53812072448.0000 - val_loss: 54621548544.0000\n",
            "Epoch 30/100\n",
            "511/511 [==============================] - 1s 1ms/step - loss: 53679591424.0000 - val_loss: 54486335488.0000\n",
            "Epoch 31/100\n",
            "511/511 [==============================] - 1s 1ms/step - loss: 53543788544.0000 - val_loss: 54347583488.0000\n",
            "Epoch 32/100\n",
            "511/511 [==============================] - 1s 1ms/step - loss: 53404438528.0000 - val_loss: 54205259776.0000\n",
            "Epoch 33/100\n",
            "511/511 [==============================] - 1s 1ms/step - loss: 53261537280.0000 - val_loss: 54059286528.0000\n",
            "Epoch 34/100\n",
            "511/511 [==============================] - 1s 1ms/step - loss: 53115052032.0000 - val_loss: 53909798912.0000\n",
            "Epoch 35/100\n",
            "511/511 [==============================] - 1s 1ms/step - loss: 52965154816.0000 - val_loss: 53756829696.0000\n",
            "Epoch 36/100\n",
            "511/511 [==============================] - 1s 1ms/step - loss: 52811935744.0000 - val_loss: 53600641024.0000\n",
            "Epoch 37/100\n",
            "511/511 [==============================] - 1s 1ms/step - loss: 52655165440.0000 - val_loss: 53440770048.0000\n",
            "Epoch 38/100\n",
            "511/511 [==============================] - 1s 1ms/step - loss: 52494921728.0000 - val_loss: 53277319168.0000\n",
            "Epoch 39/100\n",
            "511/511 [==============================] - 1s 999us/step - loss: 52331614208.0000 - val_loss: 53111177216.0000\n",
            "Epoch 40/100\n",
            "511/511 [==============================] - 1s 1ms/step - loss: 52164964352.0000 - val_loss: 52941234176.0000\n",
            "Epoch 41/100\n",
            "511/511 [==============================] - 1s 1ms/step - loss: 51995062272.0000 - val_loss: 52768284672.0000\n",
            "Epoch 42/100\n",
            "511/511 [==============================] - 1s 1ms/step - loss: 51821760512.0000 - val_loss: 52591747072.0000\n",
            "Epoch 43/100\n",
            "511/511 [==============================] - 1s 992us/step - loss: 51645296640.0000 - val_loss: 52412166144.0000\n",
            "Epoch 44/100\n",
            "511/511 [==============================] - 1s 1ms/step - loss: 51465551872.0000 - val_loss: 52229357568.0000\n",
            "Epoch 45/100\n",
            "511/511 [==============================] - 1s 1ms/step - loss: 51282706432.0000 - val_loss: 52043239424.0000\n",
            "Epoch 46/100\n",
            "511/511 [==============================] - 1s 1ms/step - loss: 51096821760.0000 - val_loss: 51854180352.0000\n",
            "Epoch 47/100\n",
            "511/511 [==============================] - 1s 1ms/step - loss: 50907717632.0000 - val_loss: 51661815808.0000\n",
            "Epoch 48/100\n",
            "511/511 [==============================] - 1s 1ms/step - loss: 50715439104.0000 - val_loss: 51466276864.0000\n",
            "Epoch 49/100\n",
            "511/511 [==============================] - 1s 997us/step - loss: 50520178688.0000 - val_loss: 51267792896.0000\n",
            "Epoch 50/100\n",
            "511/511 [==============================] - 1s 1ms/step - loss: 50322108416.0000 - val_loss: 51066650624.0000\n",
            "Epoch 51/100\n",
            "511/511 [==============================] - 1s 983us/step - loss: 50120978432.0000 - val_loss: 50862075904.0000\n",
            "Epoch 52/100\n",
            "511/511 [==============================] - 1s 1ms/step - loss: 49916719104.0000 - val_loss: 50654691328.0000\n",
            "Epoch 53/100\n",
            "511/511 [==============================] - 1s 1ms/step - loss: 49709371392.0000 - val_loss: 50443841536.0000\n",
            "Epoch 54/100\n",
            "511/511 [==============================] - 1s 1ms/step - loss: 49499230208.0000 - val_loss: 50230595584.0000\n",
            "Epoch 55/100\n",
            "511/511 [==============================] - 1s 1ms/step - loss: 49286606848.0000 - val_loss: 50014679040.0000\n",
            "Epoch 56/100\n",
            "511/511 [==============================] - 1s 1ms/step - loss: 49071075328.0000 - val_loss: 49795616768.0000\n",
            "Epoch 57/100\n",
            "511/511 [==============================] - 1s 1ms/step - loss: 48852729856.0000 - val_loss: 49574187008.0000\n",
            "Epoch 58/100\n",
            "511/511 [==============================] - 1s 1ms/step - loss: 48631603200.0000 - val_loss: 49349627904.0000\n",
            "Epoch 59/100\n",
            "511/511 [==============================] - 1s 1ms/step - loss: 48407572480.0000 - val_loss: 49122234368.0000\n",
            "Epoch 60/100\n",
            "511/511 [==============================] - 1s 1ms/step - loss: 48180797440.0000 - val_loss: 48891854848.0000\n",
            "Epoch 61/100\n",
            "511/511 [==============================] - 1s 1ms/step - loss: 47951228928.0000 - val_loss: 48659062784.0000\n",
            "Epoch 62/100\n",
            "511/511 [==============================] - 1s 1ms/step - loss: 47719264256.0000 - val_loss: 48423825408.0000\n",
            "Epoch 63/100\n",
            "511/511 [==============================] - 1s 1ms/step - loss: 47484776448.0000 - val_loss: 48186015744.0000\n",
            "Epoch 64/100\n",
            "511/511 [==============================] - 1s 994us/step - loss: 47247749120.0000 - val_loss: 47945629696.0000\n",
            "Epoch 65/100\n",
            "511/511 [==============================] - 1s 1ms/step - loss: 47008231424.0000 - val_loss: 47702618112.0000\n",
            "Epoch 66/100\n",
            "511/511 [==============================] - 1s 1ms/step - loss: 46766125056.0000 - val_loss: 47457148928.0000\n",
            "Epoch 67/100\n",
            "511/511 [==============================] - 1s 1ms/step - loss: 46521491456.0000 - val_loss: 47209185280.0000\n",
            "Epoch 68/100\n",
            "511/511 [==============================] - 1s 1ms/step - loss: 46274469888.0000 - val_loss: 46958628864.0000\n",
            "Epoch 69/100\n",
            "511/511 [==============================] - 1s 1ms/step - loss: 46025187328.0000 - val_loss: 46706073600.0000\n",
            "Epoch 70/100\n",
            "511/511 [==============================] - 1s 1ms/step - loss: 45773594624.0000 - val_loss: 46451040256.0000\n",
            "Epoch 71/100\n",
            "511/511 [==============================] - 1s 1ms/step - loss: 45519646720.0000 - val_loss: 46193819648.0000\n",
            "Epoch 72/100\n",
            "511/511 [==============================] - 1s 1ms/step - loss: 45263499264.0000 - val_loss: 45934051328.0000\n",
            "Epoch 73/100\n",
            "511/511 [==============================] - 1s 1ms/step - loss: 45005193216.0000 - val_loss: 45672579072.0000\n",
            "Epoch 74/100\n",
            "511/511 [==============================] - 1s 1ms/step - loss: 44744871936.0000 - val_loss: 45408911360.0000\n",
            "Epoch 75/100\n",
            "511/511 [==============================] - 1s 1ms/step - loss: 44482658304.0000 - val_loss: 45143285760.0000\n",
            "Epoch 76/100\n",
            "511/511 [==============================] - 1s 1ms/step - loss: 44218441728.0000 - val_loss: 44875501568.0000\n",
            "Epoch 77/100\n",
            "511/511 [==============================] - 1s 1ms/step - loss: 43951804416.0000 - val_loss: 44605341696.0000\n",
            "Epoch 78/100\n",
            "511/511 [==============================] - 1s 1ms/step - loss: 43683184640.0000 - val_loss: 44333326336.0000\n",
            "Epoch 79/100\n",
            "511/511 [==============================] - 1s 1ms/step - loss: 43412885504.0000 - val_loss: 44059365376.0000\n",
            "Epoch 80/100\n",
            "511/511 [==============================] - 1s 1ms/step - loss: 43140419584.0000 - val_loss: 43783475200.0000\n",
            "Epoch 81/100\n",
            "511/511 [==============================] - 1s 1ms/step - loss: 42865639424.0000 - val_loss: 43505586176.0000\n",
            "Epoch 82/100\n",
            "511/511 [==============================] - 1s 1ms/step - loss: 42589376512.0000 - val_loss: 43225927680.0000\n",
            "Epoch 83/100\n",
            "511/511 [==============================] - 1s 1ms/step - loss: 42311483392.0000 - val_loss: 42944397312.0000\n",
            "Epoch 84/100\n",
            "511/511 [==============================] - 1s 1ms/step - loss: 42031714304.0000 - val_loss: 42661212160.0000\n",
            "Epoch 85/100\n",
            "511/511 [==============================] - 1s 1ms/step - loss: 41750388736.0000 - val_loss: 42376740864.0000\n",
            "Epoch 86/100\n",
            "511/511 [==============================] - 1s 1ms/step - loss: 41467191296.0000 - val_loss: 42089787392.0000\n",
            "Epoch 87/100\n",
            "511/511 [==============================] - 1s 1ms/step - loss: 41182334976.0000 - val_loss: 41801674752.0000\n",
            "Epoch 88/100\n",
            "511/511 [==============================] - 1s 1ms/step - loss: 40896458752.0000 - val_loss: 41512431616.0000\n",
            "Epoch 89/100\n",
            "511/511 [==============================] - 1s 1ms/step - loss: 40609091584.0000 - val_loss: 41221595136.0000\n",
            "Epoch 90/100\n",
            "511/511 [==============================] - 1s 1ms/step - loss: 40319991808.0000 - val_loss: 40929234944.0000\n",
            "Epoch 91/100\n",
            "511/511 [==============================] - 1s 1ms/step - loss: 40029450240.0000 - val_loss: 40635248640.0000\n",
            "Epoch 92/100\n",
            "511/511 [==============================] - 1s 1ms/step - loss: 39737569280.0000 - val_loss: 40339939328.0000\n",
            "Epoch 93/100\n",
            "511/511 [==============================] - 1s 1ms/step - loss: 39444402176.0000 - val_loss: 40043360256.0000\n",
            "Epoch 94/100\n",
            "511/511 [==============================] - 1s 1ms/step - loss: 39149998080.0000 - val_loss: 39745691648.0000\n",
            "Epoch 95/100\n",
            "511/511 [==============================] - 1s 1ms/step - loss: 38854225920.0000 - val_loss: 39446355968.0000\n",
            "Epoch 96/100\n",
            "511/511 [==============================] - 1s 1ms/step - loss: 38557429760.0000 - val_loss: 39146348544.0000\n",
            "Epoch 97/100\n",
            "511/511 [==============================] - 1s 1ms/step - loss: 38259421184.0000 - val_loss: 38844985344.0000\n",
            "Epoch 98/100\n",
            "511/511 [==============================] - 1s 1ms/step - loss: 37960237056.0000 - val_loss: 38542524416.0000\n",
            "Epoch 99/100\n",
            "511/511 [==============================] - 1s 1ms/step - loss: 37660135424.0000 - val_loss: 38239121408.0000\n",
            "Epoch 100/100\n",
            "511/511 [==============================] - 1s 1ms/step - loss: 37359157248.0000 - val_loss: 37934952448.0000\n"
          ],
          "name": "stdout"
        },
        {
          "output_type": "execute_result",
          "data": {
            "text/plain": [
              "<tensorflow.python.keras.callbacks.History at 0x7f3f6e295e10>"
            ]
          },
          "metadata": {
            "tags": []
          },
          "execution_count": 18
        }
      ]
    },
    {
      "cell_type": "code",
      "metadata": {
        "id": "9XJoSm6YhOuG",
        "colab": {
          "base_uri": "https://localhost:8080/"
        },
        "outputId": "c7ac87c1-7f3c-470f-f8f5-96cc84549474"
      },
      "source": [
        "import keras.backend as K\n",
        "print(K.eval(model.optimizer.lr))"
      ],
      "execution_count": null,
      "outputs": [
        {
          "output_type": "stream",
          "text": [
            "0.001\n"
          ],
          "name": "stdout"
        }
      ]
    },
    {
      "cell_type": "code",
      "metadata": {
        "id": "TNQBPWp-Vj76",
        "colab": {
          "base_uri": "https://localhost:8080/",
          "height": 293
        },
        "outputId": "61bbb798-4adc-4712-cc72-ca4a8401fb8a"
      },
      "source": [
        "losses = pd.DataFrame(model.history.history)\n",
        "losses.plot()"
      ],
      "execution_count": null,
      "outputs": [
        {
          "output_type": "execute_result",
          "data": {
            "text/plain": [
              "<matplotlib.axes._subplots.AxesSubplot at 0x7f3f6bba96d8>"
            ]
          },
          "metadata": {
            "tags": []
          },
          "execution_count": 20
        },
        {
          "output_type": "display_data",
          "data": {
            "image/png": "[encoded data removed]",
            "text/plain": [
              "<Figure size 432x288 with 1 Axes>"
            ]
          },
          "metadata": {
            "tags": [],
            "needs_background": "light"
          }
        }
      ]
    },
    {
      "cell_type": "markdown",
      "metadata": {
        "id": "MfljIPx4rnjU"
      },
      "source": [
        "### Creating Multi-layer neural network model"
      ]
    },
    {
      "cell_type": "code",
      "metadata": {
        "id": "Sn3p2fWVrYNA"
      },
      "source": [
        "from tensorflow.keras.models import Sequential\n",
        "from tensorflow.keras.layers import Dense\n",
        "\n",
        "model = Sequential()\n",
        "model.add(Dense(19,activation='relu'))\n",
        "model.add(Dense(19,activation='relu'))\n",
        "model.add(Dense(19,activation='relu'))\n",
        "model.add(Dense(19,activation='relu'))\n",
        "model.add(Dense(1))\n",
        "model.compile(optimizer='adam', loss='mse')"
      ],
      "execution_count": null,
      "outputs": []
    },
    {
      "cell_type": "markdown",
      "metadata": {
        "id": "Ydr71RFFrupr"
      },
      "source": [
        "### Training the model"
      ]
    },
    {
      "cell_type": "code",
      "metadata": {
        "id": "rd_SMcgsrxBk",
        "colab": {
          "base_uri": "https://localhost:8080/"
        },
        "outputId": "ac2fb1fa-eb63-449a-8ed6-be96b2548950"
      },
      "source": [
        "from tensorflow.keras.callbacks import EarlyStopping\n",
        "\n",
        "# Stop training before last epoch if found the validation loss is minimum\n",
        "early_stop = EarlyStopping(monitor='val_loss', mode='min', verbose=1, patience=10)\n",
        "model.fit(x=X_train,y=y_train.values,\n",
        "          validation_data=(X_test,y_test.values),\n",
        "          batch_size=128,epochs=400, callbacks=[early_stop])"
      ],
      "execution_count": null,
      "outputs": [
        {
          "output_type": "stream",
          "text": [
            "Epoch 1/400\n",
            "128/128 [==============================] - 0s 2ms/step - loss: 55934664704.0000 - val_loss: 56809664512.0000\n",
            "Epoch 2/400\n",
            "128/128 [==============================] - 0s 2ms/step - loss: 55674777600.0000 - val_loss: 55962656768.0000\n",
            "Epoch 3/400\n",
            "128/128 [==============================] - 0s 2ms/step - loss: 52717641728.0000 - val_loss: 49466445824.0000\n",
            "Epoch 4/400\n",
            "128/128 [==============================] - 0s 2ms/step - loss: 40326340608.0000 - val_loss: 30512949248.0000\n",
            "Epoch 5/400\n",
            "128/128 [==============================] - 0s 1ms/step - loss: 20285181952.0000 - val_loss: 14000756736.0000\n",
            "Epoch 6/400\n",
            "128/128 [==============================] - 0s 2ms/step - loss: 12320353280.0000 - val_loss: 12326946816.0000\n",
            "Epoch 7/400\n",
            "128/128 [==============================] - 0s 2ms/step - loss: 11864169472.0000 - val_loss: 12186173440.0000\n",
            "Epoch 8/400\n",
            "128/128 [==============================] - 0s 2ms/step - loss: 11733564416.0000 - val_loss: 12050708480.0000\n",
            "Epoch 9/400\n",
            "128/128 [==============================] - 0s 1ms/step - loss: 11598782464.0000 - val_loss: 11907817472.0000\n",
            "Epoch 10/400\n",
            "128/128 [==============================] - 0s 1ms/step - loss: 11457583104.0000 - val_loss: 11764704256.0000\n",
            "Epoch 11/400\n",
            "128/128 [==============================] - 0s 2ms/step - loss: 11314337792.0000 - val_loss: 11606692864.0000\n",
            "Epoch 12/400\n",
            "128/128 [==============================] - 0s 2ms/step - loss: 11160805376.0000 - val_loss: 11445881856.0000\n",
            "Epoch 13/400\n",
            "128/128 [==============================] - 0s 2ms/step - loss: 11004467200.0000 - val_loss: 11279357952.0000\n",
            "Epoch 14/400\n",
            "128/128 [==============================] - 0s 1ms/step - loss: 10834538496.0000 - val_loss: 11100363776.0000\n",
            "Epoch 15/400\n",
            "128/128 [==============================] - 0s 1ms/step - loss: 10657247232.0000 - val_loss: 10910913536.0000\n",
            "Epoch 16/400\n",
            "128/128 [==============================] - 0s 1ms/step - loss: 10469269504.0000 - val_loss: 10711832576.0000\n",
            "Epoch 17/400\n",
            "128/128 [==============================] - 0s 2ms/step - loss: 10266463232.0000 - val_loss: 10496839680.0000\n",
            "Epoch 18/400\n",
            "128/128 [==============================] - 0s 2ms/step - loss: 10050540544.0000 - val_loss: 10266264576.0000\n",
            "Epoch 19/400\n",
            "128/128 [==============================] - 0s 1ms/step - loss: 9815930880.0000 - val_loss: 10015787008.0000\n",
            "Epoch 20/400\n",
            "128/128 [==============================] - 0s 1ms/step - loss: 9561223168.0000 - val_loss: 9743112192.0000\n",
            "Epoch 21/400\n",
            "128/128 [==============================] - 0s 2ms/step - loss: 9283211264.0000 - val_loss: 9445386240.0000\n",
            "Epoch 22/400\n",
            "128/128 [==============================] - 0s 2ms/step - loss: 8977037312.0000 - val_loss: 9121651712.0000\n",
            "Epoch 23/400\n",
            "128/128 [==============================] - 0s 2ms/step - loss: 8644173824.0000 - val_loss: 8763724800.0000\n",
            "Epoch 24/400\n",
            "128/128 [==============================] - 0s 2ms/step - loss: 8285458944.0000 - val_loss: 8385348096.0000\n",
            "Epoch 25/400\n",
            "128/128 [==============================] - 0s 1ms/step - loss: 7904283136.0000 - val_loss: 7983193600.0000\n",
            "Epoch 26/400\n",
            "128/128 [==============================] - 0s 1ms/step - loss: 7509029376.0000 - val_loss: 7575546368.0000\n",
            "Epoch 27/400\n",
            "128/128 [==============================] - 0s 1ms/step - loss: 7118890496.0000 - val_loss: 7190056960.0000\n",
            "Epoch 28/400\n",
            "128/128 [==============================] - 0s 2ms/step - loss: 6760384512.0000 - val_loss: 6842533376.0000\n",
            "Epoch 29/400\n",
            "128/128 [==============================] - 0s 1ms/step - loss: 6457555968.0000 - val_loss: 6567420416.0000\n",
            "Epoch 30/400\n",
            "128/128 [==============================] - 0s 1ms/step - loss: 6227570176.0000 - val_loss: 6370685440.0000\n",
            "Epoch 31/400\n",
            "128/128 [==============================] - 0s 1ms/step - loss: 6073336320.0000 - val_loss: 6241229824.0000\n",
            "Epoch 32/400\n",
            "128/128 [==============================] - 0s 1ms/step - loss: 5976734208.0000 - val_loss: 6160452608.0000\n",
            "Epoch 33/400\n",
            "128/128 [==============================] - 0s 2ms/step - loss: 5916854272.0000 - val_loss: 6110196224.0000\n",
            "Epoch 34/400\n",
            "128/128 [==============================] - 0s 2ms/step - loss: 5876957184.0000 - val_loss: 6068514816.0000\n",
            "Epoch 35/400\n",
            "128/128 [==============================] - 0s 2ms/step - loss: 5845167616.0000 - val_loss: 6037694976.0000\n",
            "Epoch 36/400\n",
            "128/128 [==============================] - 0s 2ms/step - loss: 5816929792.0000 - val_loss: 6009369088.0000\n",
            "Epoch 37/400\n",
            "128/128 [==============================] - 0s 2ms/step - loss: 5792478208.0000 - val_loss: 5983975936.0000\n",
            "Epoch 38/400\n",
            "128/128 [==============================] - 0s 2ms/step - loss: 5768836096.0000 - val_loss: 5958836736.0000\n",
            "Epoch 39/400\n",
            "128/128 [==============================] - 0s 2ms/step - loss: 5744720896.0000 - val_loss: 5941256192.0000\n",
            "Epoch 40/400\n",
            "128/128 [==============================] - 0s 2ms/step - loss: 5724340736.0000 - val_loss: 5909756928.0000\n",
            "Epoch 41/400\n",
            "128/128 [==============================] - 0s 2ms/step - loss: 5702576640.0000 - val_loss: 5892244992.0000\n",
            "Epoch 42/400\n",
            "128/128 [==============================] - 0s 2ms/step - loss: 5679600640.0000 - val_loss: 5863375360.0000\n",
            "Epoch 43/400\n",
            "128/128 [==============================] - 0s 2ms/step - loss: 5658024448.0000 - val_loss: 5842694144.0000\n",
            "Epoch 44/400\n",
            "128/128 [==============================] - 0s 2ms/step - loss: 5636022784.0000 - val_loss: 5819356160.0000\n",
            "Epoch 45/400\n",
            "128/128 [==============================] - 0s 2ms/step - loss: 5616207872.0000 - val_loss: 5803973632.0000\n",
            "Epoch 46/400\n",
            "128/128 [==============================] - 0s 2ms/step - loss: 5594988544.0000 - val_loss: 5800514560.0000\n",
            "Epoch 47/400\n",
            "128/128 [==============================] - 0s 2ms/step - loss: 5577631744.0000 - val_loss: 5758636544.0000\n",
            "Epoch 48/400\n",
            "128/128 [==============================] - 0s 2ms/step - loss: 5554351616.0000 - val_loss: 5732251648.0000\n",
            "Epoch 49/400\n",
            "128/128 [==============================] - 0s 1ms/step - loss: 5534369280.0000 - val_loss: 5710691840.0000\n",
            "Epoch 50/400\n",
            "128/128 [==============================] - 0s 2ms/step - loss: 5512535552.0000 - val_loss: 5692179456.0000\n",
            "Epoch 51/400\n",
            "128/128 [==============================] - 0s 2ms/step - loss: 5492985344.0000 - val_loss: 5667808256.0000\n",
            "Epoch 52/400\n",
            "128/128 [==============================] - 0s 2ms/step - loss: 5474446848.0000 - val_loss: 5646579712.0000\n",
            "Epoch 53/400\n",
            "128/128 [==============================] - 0s 2ms/step - loss: 5453573632.0000 - val_loss: 5629503488.0000\n",
            "Epoch 54/400\n",
            "128/128 [==============================] - 0s 2ms/step - loss: 5435352064.0000 - val_loss: 5604153344.0000\n",
            "Epoch 55/400\n",
            "128/128 [==============================] - 0s 2ms/step - loss: 5414668800.0000 - val_loss: 5583506432.0000\n",
            "Epoch 56/400\n",
            "128/128 [==============================] - 0s 2ms/step - loss: 5394027008.0000 - val_loss: 5563630080.0000\n",
            "Epoch 57/400\n",
            "128/128 [==============================] - 0s 2ms/step - loss: 5373106688.0000 - val_loss: 5539573760.0000\n",
            "Epoch 58/400\n",
            "128/128 [==============================] - 0s 2ms/step - loss: 5352391680.0000 - val_loss: 5518390784.0000\n",
            "Epoch 59/400\n",
            "128/128 [==============================] - 0s 2ms/step - loss: 5331812352.0000 - val_loss: 5497180160.0000\n",
            "Epoch 60/400\n",
            "128/128 [==============================] - 0s 2ms/step - loss: 5315165184.0000 - val_loss: 5476870144.0000\n",
            "Epoch 61/400\n",
            "128/128 [==============================] - 0s 2ms/step - loss: 5295157760.0000 - val_loss: 5459219456.0000\n",
            "Epoch 62/400\n",
            "128/128 [==============================] - 0s 2ms/step - loss: 5277390336.0000 - val_loss: 5433153024.0000\n",
            "Epoch 63/400\n",
            "128/128 [==============================] - 0s 2ms/step - loss: 5252400640.0000 - val_loss: 5412778496.0000\n",
            "Epoch 64/400\n",
            "128/128 [==============================] - 0s 1ms/step - loss: 5230864384.0000 - val_loss: 5392396288.0000\n",
            "Epoch 65/400\n",
            "128/128 [==============================] - 0s 2ms/step - loss: 5215645184.0000 - val_loss: 5375162880.0000\n",
            "Epoch 66/400\n",
            "128/128 [==============================] - 0s 1ms/step - loss: 5195116032.0000 - val_loss: 5365525504.0000\n",
            "Epoch 67/400\n",
            "128/128 [==============================] - 0s 2ms/step - loss: 5180157952.0000 - val_loss: 5332041728.0000\n",
            "Epoch 68/400\n",
            "128/128 [==============================] - 0s 2ms/step - loss: 5156487680.0000 - val_loss: 5318290432.0000\n",
            "Epoch 69/400\n",
            "128/128 [==============================] - 0s 2ms/step - loss: 5137815552.0000 - val_loss: 5302210560.0000\n",
            "Epoch 70/400\n",
            "128/128 [==============================] - 0s 2ms/step - loss: 5114915840.0000 - val_loss: 5275252736.0000\n",
            "Epoch 71/400\n",
            "128/128 [==============================] - 0s 2ms/step - loss: 5097034240.0000 - val_loss: 5256722944.0000\n",
            "Epoch 72/400\n",
            "128/128 [==============================] - 0s 2ms/step - loss: 5079912448.0000 - val_loss: 5227688960.0000\n",
            "Epoch 73/400\n",
            "128/128 [==============================] - 0s 2ms/step - loss: 5060576256.0000 - val_loss: 5206706688.0000\n",
            "Epoch 74/400\n",
            "128/128 [==============================] - 0s 2ms/step - loss: 5041759232.0000 - val_loss: 5186109440.0000\n",
            "Epoch 75/400\n",
            "128/128 [==============================] - 0s 2ms/step - loss: 5019709952.0000 - val_loss: 5166458880.0000\n",
            "Epoch 76/400\n",
            "128/128 [==============================] - 0s 2ms/step - loss: 4996776448.0000 - val_loss: 5161502720.0000\n",
            "Epoch 77/400\n",
            "128/128 [==============================] - 0s 2ms/step - loss: 4984282624.0000 - val_loss: 5122447872.0000\n",
            "Epoch 78/400\n",
            "128/128 [==============================] - 0s 2ms/step - loss: 4965509632.0000 - val_loss: 5103328256.0000\n",
            "Epoch 79/400\n",
            "128/128 [==============================] - 0s 2ms/step - loss: 4941036032.0000 - val_loss: 5086788608.0000\n",
            "Epoch 80/400\n",
            "128/128 [==============================] - 0s 2ms/step - loss: 4927600640.0000 - val_loss: 5061313536.0000\n",
            "Epoch 81/400\n",
            "128/128 [==============================] - 0s 2ms/step - loss: 4904598528.0000 - val_loss: 5041993216.0000\n",
            "Epoch 82/400\n",
            "128/128 [==============================] - 0s 2ms/step - loss: 4885768704.0000 - val_loss: 5022896128.0000\n",
            "Epoch 83/400\n",
            "128/128 [==============================] - 0s 2ms/step - loss: 4871684608.0000 - val_loss: 5010226688.0000\n",
            "Epoch 84/400\n",
            "128/128 [==============================] - 0s 2ms/step - loss: 4852088320.0000 - val_loss: 4984979456.0000\n",
            "Epoch 85/400\n",
            "128/128 [==============================] - 0s 2ms/step - loss: 4833773568.0000 - val_loss: 4965192704.0000\n",
            "Epoch 86/400\n",
            "128/128 [==============================] - 0s 2ms/step - loss: 4815721984.0000 - val_loss: 4950604800.0000\n",
            "Epoch 87/400\n",
            "128/128 [==============================] - 0s 2ms/step - loss: 4801067008.0000 - val_loss: 4926966272.0000\n",
            "Epoch 88/400\n",
            "128/128 [==============================] - 0s 2ms/step - loss: 4783788032.0000 - val_loss: 4909304832.0000\n",
            "Epoch 89/400\n",
            "128/128 [==============================] - 0s 2ms/step - loss: 4765824512.0000 - val_loss: 4891454464.0000\n",
            "Epoch 90/400\n",
            "128/128 [==============================] - 0s 2ms/step - loss: 4752267776.0000 - val_loss: 4881064448.0000\n",
            "Epoch 91/400\n",
            "128/128 [==============================] - 0s 2ms/step - loss: 4738569216.0000 - val_loss: 4865123840.0000\n",
            "Epoch 92/400\n",
            "128/128 [==============================] - 0s 2ms/step - loss: 4719418880.0000 - val_loss: 4847287296.0000\n",
            "Epoch 93/400\n",
            "128/128 [==============================] - 0s 2ms/step - loss: 4707360768.0000 - val_loss: 4826839040.0000\n",
            "Epoch 94/400\n",
            "128/128 [==============================] - 0s 2ms/step - loss: 4692749824.0000 - val_loss: 4812031488.0000\n",
            "Epoch 95/400\n",
            "128/128 [==============================] - 0s 2ms/step - loss: 4677787136.0000 - val_loss: 4796251648.0000\n",
            "Epoch 96/400\n",
            "128/128 [==============================] - 0s 2ms/step - loss: 4667407872.0000 - val_loss: 4780422656.0000\n",
            "Epoch 97/400\n",
            "128/128 [==============================] - 0s 2ms/step - loss: 4651730432.0000 - val_loss: 4765786624.0000\n",
            "Epoch 98/400\n",
            "128/128 [==============================] - 0s 2ms/step - loss: 4639436288.0000 - val_loss: 4752619520.0000\n",
            "Epoch 99/400\n",
            "128/128 [==============================] - 0s 2ms/step - loss: 4628304384.0000 - val_loss: 4738703360.0000\n",
            "Epoch 100/400\n",
            "128/128 [==============================] - 0s 2ms/step - loss: 4614759424.0000 - val_loss: 4728189952.0000\n",
            "Epoch 101/400\n",
            "128/128 [==============================] - 0s 2ms/step - loss: 4603565568.0000 - val_loss: 4711281664.0000\n",
            "Epoch 102/400\n",
            "128/128 [==============================] - 0s 2ms/step - loss: 4594710016.0000 - val_loss: 4713662464.0000\n",
            "Epoch 103/400\n",
            "128/128 [==============================] - 0s 2ms/step - loss: 4580143616.0000 - val_loss: 4690314240.0000\n",
            "Epoch 104/400\n",
            "128/128 [==============================] - 0s 2ms/step - loss: 4568123904.0000 - val_loss: 4671912960.0000\n",
            "Epoch 105/400\n",
            "128/128 [==============================] - 0s 2ms/step - loss: 4556431872.0000 - val_loss: 4665289216.0000\n",
            "Epoch 106/400\n",
            "128/128 [==============================] - 0s 2ms/step - loss: 4553529856.0000 - val_loss: 4649281536.0000\n",
            "Epoch 107/400\n",
            "128/128 [==============================] - 0s 2ms/step - loss: 4534938112.0000 - val_loss: 4638659584.0000\n",
            "Epoch 108/400\n",
            "128/128 [==============================] - 0s 1ms/step - loss: 4528249856.0000 - val_loss: 4627482112.0000\n",
            "Epoch 109/400\n",
            "128/128 [==============================] - 0s 2ms/step - loss: 4521129984.0000 - val_loss: 4624589312.0000\n",
            "Epoch 110/400\n",
            "128/128 [==============================] - 0s 2ms/step - loss: 4510510080.0000 - val_loss: 4620509184.0000\n",
            "Epoch 111/400\n",
            "128/128 [==============================] - 0s 2ms/step - loss: 4507215872.0000 - val_loss: 4600826880.0000\n",
            "Epoch 112/400\n",
            "128/128 [==============================] - 0s 2ms/step - loss: 4494059008.0000 - val_loss: 4600280064.0000\n",
            "Epoch 113/400\n",
            "128/128 [==============================] - 0s 2ms/step - loss: 4490820608.0000 - val_loss: 4582870016.0000\n",
            "Epoch 114/400\n",
            "128/128 [==============================] - 0s 2ms/step - loss: 4483075072.0000 - val_loss: 4589755392.0000\n",
            "Epoch 115/400\n",
            "128/128 [==============================] - 0s 2ms/step - loss: 4476269056.0000 - val_loss: 4569682432.0000\n",
            "Epoch 116/400\n",
            "128/128 [==============================] - 0s 2ms/step - loss: 4472316928.0000 - val_loss: 4561396224.0000\n",
            "Epoch 117/400\n",
            "128/128 [==============================] - 0s 2ms/step - loss: 4465010176.0000 - val_loss: 4553285632.0000\n",
            "Epoch 118/400\n",
            "128/128 [==============================] - 0s 2ms/step - loss: 4458578432.0000 - val_loss: 4547033600.0000\n",
            "Epoch 119/400\n",
            "128/128 [==============================] - 0s 2ms/step - loss: 4455298560.0000 - val_loss: 4542587904.0000\n",
            "Epoch 120/400\n",
            "128/128 [==============================] - 0s 2ms/step - loss: 4450438144.0000 - val_loss: 4539791872.0000\n",
            "Epoch 121/400\n",
            "128/128 [==============================] - 0s 2ms/step - loss: 4445737984.0000 - val_loss: 4552084480.0000\n",
            "Epoch 122/400\n",
            "128/128 [==============================] - 0s 2ms/step - loss: 4439006208.0000 - val_loss: 4532223488.0000\n",
            "Epoch 123/400\n",
            "128/128 [==============================] - 0s 2ms/step - loss: 4442482176.0000 - val_loss: 4520476672.0000\n",
            "Epoch 124/400\n",
            "128/128 [==============================] - 0s 2ms/step - loss: 4432310784.0000 - val_loss: 4519244288.0000\n",
            "Epoch 125/400\n",
            "128/128 [==============================] - 0s 2ms/step - loss: 4429170176.0000 - val_loss: 4523176448.0000\n",
            "Epoch 126/400\n",
            "128/128 [==============================] - 0s 2ms/step - loss: 4427965440.0000 - val_loss: 4511488512.0000\n",
            "Epoch 127/400\n",
            "128/128 [==============================] - 0s 2ms/step - loss: 4421420544.0000 - val_loss: 4506191872.0000\n",
            "Epoch 128/400\n",
            "128/128 [==============================] - 0s 2ms/step - loss: 4418191360.0000 - val_loss: 4516520960.0000\n",
            "Epoch 129/400\n",
            "128/128 [==============================] - 0s 2ms/step - loss: 4415683584.0000 - val_loss: 4501874176.0000\n",
            "Epoch 130/400\n",
            "128/128 [==============================] - 0s 2ms/step - loss: 4415580160.0000 - val_loss: 4496173568.0000\n",
            "Epoch 131/400\n",
            "128/128 [==============================] - 0s 2ms/step - loss: 4410458112.0000 - val_loss: 4493117440.0000\n",
            "Epoch 132/400\n",
            "128/128 [==============================] - 0s 2ms/step - loss: 4406692352.0000 - val_loss: 4497461760.0000\n",
            "Epoch 133/400\n",
            "128/128 [==============================] - 0s 2ms/step - loss: 4404631552.0000 - val_loss: 4489461760.0000\n",
            "Epoch 134/400\n",
            "128/128 [==============================] - 0s 2ms/step - loss: 4403259392.0000 - val_loss: 4488429568.0000\n",
            "Epoch 135/400\n",
            "128/128 [==============================] - 0s 2ms/step - loss: 4400091136.0000 - val_loss: 4484410880.0000\n",
            "Epoch 136/400\n",
            "128/128 [==============================] - 0s 2ms/step - loss: 4399232000.0000 - val_loss: 4486850048.0000\n",
            "Epoch 137/400\n",
            "128/128 [==============================] - 0s 2ms/step - loss: 4398617600.0000 - val_loss: 4477297152.0000\n",
            "Epoch 138/400\n",
            "128/128 [==============================] - 0s 2ms/step - loss: 4398404096.0000 - val_loss: 4479169536.0000\n",
            "Epoch 139/400\n",
            "128/128 [==============================] - 0s 2ms/step - loss: 4395414016.0000 - val_loss: 4475518976.0000\n",
            "Epoch 140/400\n",
            "128/128 [==============================] - 0s 2ms/step - loss: 4391364608.0000 - val_loss: 4472107520.0000\n",
            "Epoch 141/400\n",
            "128/128 [==============================] - 0s 2ms/step - loss: 4392740352.0000 - val_loss: 4481330176.0000\n",
            "Epoch 142/400\n",
            "128/128 [==============================] - 0s 2ms/step - loss: 4388876288.0000 - val_loss: 4467153408.0000\n",
            "Epoch 143/400\n",
            "128/128 [==============================] - 0s 2ms/step - loss: 4386461184.0000 - val_loss: 4466317824.0000\n",
            "Epoch 144/400\n",
            "128/128 [==============================] - 0s 2ms/step - loss: 4387731456.0000 - val_loss: 4467524096.0000\n",
            "Epoch 145/400\n",
            "128/128 [==============================] - 0s 2ms/step - loss: 4387595264.0000 - val_loss: 4464704000.0000\n",
            "Epoch 146/400\n",
            "128/128 [==============================] - 0s 2ms/step - loss: 4384882688.0000 - val_loss: 4463374336.0000\n",
            "Epoch 147/400\n",
            "128/128 [==============================] - 0s 2ms/step - loss: 4382173184.0000 - val_loss: 4458442240.0000\n",
            "Epoch 148/400\n",
            "128/128 [==============================] - 0s 2ms/step - loss: 4382917632.0000 - val_loss: 4456698368.0000\n",
            "Epoch 149/400\n",
            "128/128 [==============================] - 0s 2ms/step - loss: 4378998272.0000 - val_loss: 4455496192.0000\n",
            "Epoch 150/400\n",
            "128/128 [==============================] - 0s 2ms/step - loss: 4378466816.0000 - val_loss: 4453465600.0000\n",
            "Epoch 151/400\n",
            "128/128 [==============================] - 0s 2ms/step - loss: 4376625152.0000 - val_loss: 4453863424.0000\n",
            "Epoch 152/400\n",
            "128/128 [==============================] - 0s 2ms/step - loss: 4376881152.0000 - val_loss: 4451646464.0000\n",
            "Epoch 153/400\n",
            "128/128 [==============================] - 0s 2ms/step - loss: 4373884416.0000 - val_loss: 4449284608.0000\n",
            "Epoch 154/400\n",
            "128/128 [==============================] - 0s 2ms/step - loss: 4373021184.0000 - val_loss: 4454328320.0000\n",
            "Epoch 155/400\n",
            "128/128 [==============================] - 0s 2ms/step - loss: 4373419520.0000 - val_loss: 4449060864.0000\n",
            "Epoch 156/400\n",
            "128/128 [==============================] - 0s 2ms/step - loss: 4373093888.0000 - val_loss: 4449925120.0000\n",
            "Epoch 157/400\n",
            "128/128 [==============================] - 0s 2ms/step - loss: 4371529216.0000 - val_loss: 4448735744.0000\n",
            "Epoch 158/400\n",
            "128/128 [==============================] - 0s 2ms/step - loss: 4367738368.0000 - val_loss: 4456683520.0000\n",
            "Epoch 159/400\n",
            "128/128 [==============================] - 0s 1ms/step - loss: 4367475200.0000 - val_loss: 4441915392.0000\n",
            "Epoch 160/400\n",
            "128/128 [==============================] - 0s 2ms/step - loss: 4367368704.0000 - val_loss: 4446566912.0000\n",
            "Epoch 161/400\n",
            "128/128 [==============================] - 0s 2ms/step - loss: 4368113664.0000 - val_loss: 4440483328.0000\n",
            "Epoch 162/400\n",
            "128/128 [==============================] - 0s 2ms/step - loss: 4363786240.0000 - val_loss: 4441778688.0000\n",
            "Epoch 163/400\n",
            "128/128 [==============================] - 0s 2ms/step - loss: 4363361280.0000 - val_loss: 4447824384.0000\n",
            "Epoch 164/400\n",
            "128/128 [==============================] - 0s 2ms/step - loss: 4365361664.0000 - val_loss: 4436562944.0000\n",
            "Epoch 165/400\n",
            "128/128 [==============================] - 0s 2ms/step - loss: 4364415488.0000 - val_loss: 4441462272.0000\n",
            "Epoch 166/400\n",
            "128/128 [==============================] - 0s 1ms/step - loss: 4360646656.0000 - val_loss: 4438668800.0000\n",
            "Epoch 167/400\n",
            "128/128 [==============================] - 0s 2ms/step - loss: 4360911872.0000 - val_loss: 4445735936.0000\n",
            "Epoch 168/400\n",
            "128/128 [==============================] - 0s 2ms/step - loss: 4363112448.0000 - val_loss: 4432443904.0000\n",
            "Epoch 169/400\n",
            "128/128 [==============================] - 0s 2ms/step - loss: 4364834816.0000 - val_loss: 4439786496.0000\n",
            "Epoch 170/400\n",
            "128/128 [==============================] - 0s 2ms/step - loss: 4357865472.0000 - val_loss: 4438867456.0000\n",
            "Epoch 171/400\n",
            "128/128 [==============================] - 0s 2ms/step - loss: 4358767104.0000 - val_loss: 4430258688.0000\n",
            "Epoch 172/400\n",
            "128/128 [==============================] - 0s 2ms/step - loss: 4356843520.0000 - val_loss: 4438730240.0000\n",
            "Epoch 173/400\n",
            "128/128 [==============================] - 0s 2ms/step - loss: 4359346176.0000 - val_loss: 4438109184.0000\n",
            "Epoch 174/400\n",
            "128/128 [==============================] - 0s 2ms/step - loss: 4354268160.0000 - val_loss: 4427418624.0000\n",
            "Epoch 175/400\n",
            "128/128 [==============================] - 0s 2ms/step - loss: 4352621568.0000 - val_loss: 4430466048.0000\n",
            "Epoch 176/400\n",
            "128/128 [==============================] - 0s 2ms/step - loss: 4354612736.0000 - val_loss: 4447183872.0000\n",
            "Epoch 177/400\n",
            "128/128 [==============================] - 0s 2ms/step - loss: 4355072000.0000 - val_loss: 4428380160.0000\n",
            "Epoch 178/400\n",
            "128/128 [==============================] - 0s 2ms/step - loss: 4355545088.0000 - val_loss: 4432925184.0000\n",
            "Epoch 179/400\n",
            "128/128 [==============================] - 0s 2ms/step - loss: 4349130240.0000 - val_loss: 4437912576.0000\n",
            "Epoch 180/400\n",
            "128/128 [==============================] - 0s 2ms/step - loss: 4349933056.0000 - val_loss: 4422166528.0000\n",
            "Epoch 181/400\n",
            "128/128 [==============================] - 0s 2ms/step - loss: 4349531648.0000 - val_loss: 4418757632.0000\n",
            "Epoch 182/400\n",
            "128/128 [==============================] - 0s 2ms/step - loss: 4347747840.0000 - val_loss: 4417625600.0000\n",
            "Epoch 183/400\n",
            "128/128 [==============================] - 0s 2ms/step - loss: 4346544640.0000 - val_loss: 4415923712.0000\n",
            "Epoch 184/400\n",
            "128/128 [==============================] - 0s 2ms/step - loss: 4346429440.0000 - val_loss: 4420760576.0000\n",
            "Epoch 185/400\n",
            "128/128 [==============================] - 0s 2ms/step - loss: 4347350016.0000 - val_loss: 4415121408.0000\n",
            "Epoch 186/400\n",
            "128/128 [==============================] - 0s 2ms/step - loss: 4340595200.0000 - val_loss: 4447602688.0000\n",
            "Epoch 187/400\n",
            "128/128 [==============================] - 0s 2ms/step - loss: 4344392704.0000 - val_loss: 4413353472.0000\n",
            "Epoch 188/400\n",
            "128/128 [==============================] - 0s 2ms/step - loss: 4342776320.0000 - val_loss: 4433781760.0000\n",
            "Epoch 189/400\n",
            "128/128 [==============================] - 0s 2ms/step - loss: 4343571968.0000 - val_loss: 4413368320.0000\n",
            "Epoch 190/400\n",
            "128/128 [==============================] - 0s 2ms/step - loss: 4345214464.0000 - val_loss: 4409073152.0000\n",
            "Epoch 191/400\n",
            "128/128 [==============================] - 0s 2ms/step - loss: 4342195712.0000 - val_loss: 4421129216.0000\n",
            "Epoch 192/400\n",
            "128/128 [==============================] - 0s 2ms/step - loss: 4341375488.0000 - val_loss: 4406168064.0000\n",
            "Epoch 193/400\n",
            "128/128 [==============================] - 0s 2ms/step - loss: 4345886720.0000 - val_loss: 4406925824.0000\n",
            "Epoch 194/400\n",
            "128/128 [==============================] - 0s 2ms/step - loss: 4337395712.0000 - val_loss: 4415576576.0000\n",
            "Epoch 195/400\n",
            "128/128 [==============================] - 0s 2ms/step - loss: 4338751488.0000 - val_loss: 4407239680.0000\n",
            "Epoch 196/400\n",
            "128/128 [==============================] - 0s 2ms/step - loss: 4335541760.0000 - val_loss: 4422151168.0000\n",
            "Epoch 197/400\n",
            "128/128 [==============================] - 0s 2ms/step - loss: 4339992576.0000 - val_loss: 4406159360.0000\n",
            "Epoch 198/400\n",
            "128/128 [==============================] - 0s 2ms/step - loss: 4335338496.0000 - val_loss: 4436789248.0000\n",
            "Epoch 199/400\n",
            "128/128 [==============================] - 0s 2ms/step - loss: 4337411072.0000 - val_loss: 4400998400.0000\n",
            "Epoch 200/400\n",
            "128/128 [==============================] - 0s 2ms/step - loss: 4334210048.0000 - val_loss: 4400178688.0000\n",
            "Epoch 201/400\n",
            "128/128 [==============================] - 0s 2ms/step - loss: 4333924352.0000 - val_loss: 4399435776.0000\n",
            "Epoch 202/400\n",
            "128/128 [==============================] - 0s 2ms/step - loss: 4332466176.0000 - val_loss: 4397502464.0000\n",
            "Epoch 203/400\n",
            "128/128 [==============================] - 0s 2ms/step - loss: 4330505728.0000 - val_loss: 4405094912.0000\n",
            "Epoch 204/400\n",
            "128/128 [==============================] - 0s 2ms/step - loss: 4328937984.0000 - val_loss: 4396491776.0000\n",
            "Epoch 205/400\n",
            "128/128 [==============================] - 0s 2ms/step - loss: 4328574976.0000 - val_loss: 4404152832.0000\n",
            "Epoch 206/400\n",
            "128/128 [==============================] - 0s 2ms/step - loss: 4329976320.0000 - val_loss: 4392942592.0000\n",
            "Epoch 207/400\n",
            "128/128 [==============================] - 0s 2ms/step - loss: 4328560128.0000 - val_loss: 4409079296.0000\n",
            "Epoch 208/400\n",
            "128/128 [==============================] - 0s 2ms/step - loss: 4329710592.0000 - val_loss: 4424453120.0000\n",
            "Epoch 209/400\n",
            "128/128 [==============================] - 0s 2ms/step - loss: 4329861120.0000 - val_loss: 4391104512.0000\n",
            "Epoch 210/400\n",
            "128/128 [==============================] - 0s 2ms/step - loss: 4327668736.0000 - val_loss: 4392097280.0000\n",
            "Epoch 211/400\n",
            "128/128 [==============================] - 0s 2ms/step - loss: 4325208064.0000 - val_loss: 4389721600.0000\n",
            "Epoch 212/400\n",
            "128/128 [==============================] - 0s 2ms/step - loss: 4327023104.0000 - val_loss: 4388288000.0000\n",
            "Epoch 213/400\n",
            "128/128 [==============================] - 0s 2ms/step - loss: 4324847616.0000 - val_loss: 4387752448.0000\n",
            "Epoch 214/400\n",
            "128/128 [==============================] - 0s 2ms/step - loss: 4322588672.0000 - val_loss: 4388727808.0000\n",
            "Epoch 215/400\n",
            "128/128 [==============================] - 0s 2ms/step - loss: 4322780160.0000 - val_loss: 4385304064.0000\n",
            "Epoch 216/400\n",
            "128/128 [==============================] - 0s 2ms/step - loss: 4324204544.0000 - val_loss: 4385272320.0000\n",
            "Epoch 217/400\n",
            "128/128 [==============================] - 0s 2ms/step - loss: 4325319680.0000 - val_loss: 4395436032.0000\n",
            "Epoch 218/400\n",
            "128/128 [==============================] - 0s 2ms/step - loss: 4320090624.0000 - val_loss: 4382481920.0000\n",
            "Epoch 219/400\n",
            "128/128 [==============================] - 0s 2ms/step - loss: 4320659968.0000 - val_loss: 4382879744.0000\n",
            "Epoch 220/400\n",
            "128/128 [==============================] - 0s 2ms/step - loss: 4323666944.0000 - val_loss: 4390256128.0000\n",
            "Epoch 221/400\n",
            "128/128 [==============================] - 0s 2ms/step - loss: 4316200448.0000 - val_loss: 4381975552.0000\n",
            "Epoch 222/400\n",
            "128/128 [==============================] - 0s 2ms/step - loss: 4317363712.0000 - val_loss: 4388790272.0000\n",
            "Epoch 223/400\n",
            "128/128 [==============================] - 0s 2ms/step - loss: 4319531520.0000 - val_loss: 4378587136.0000\n",
            "Epoch 224/400\n",
            "128/128 [==============================] - 0s 2ms/step - loss: 4317822464.0000 - val_loss: 4380082688.0000\n",
            "Epoch 225/400\n",
            "128/128 [==============================] - 0s 2ms/step - loss: 4317527552.0000 - val_loss: 4389445632.0000\n",
            "Epoch 226/400\n",
            "128/128 [==============================] - 0s 2ms/step - loss: 4313701376.0000 - val_loss: 4383775232.0000\n",
            "Epoch 227/400\n",
            "128/128 [==============================] - 0s 2ms/step - loss: 4312344576.0000 - val_loss: 4389317632.0000\n",
            "Epoch 228/400\n",
            "128/128 [==============================] - 0s 2ms/step - loss: 4316199424.0000 - val_loss: 4375192064.0000\n",
            "Epoch 229/400\n",
            "128/128 [==============================] - 0s 2ms/step - loss: 4316364288.0000 - val_loss: 4381236224.0000\n",
            "Epoch 230/400\n",
            "128/128 [==============================] - 0s 2ms/step - loss: 4313379840.0000 - val_loss: 4389897216.0000\n",
            "Epoch 231/400\n",
            "128/128 [==============================] - 0s 2ms/step - loss: 4310235648.0000 - val_loss: 4382683648.0000\n",
            "Epoch 232/400\n",
            "128/128 [==============================] - 0s 2ms/step - loss: 4310128128.0000 - val_loss: 4385247232.0000\n",
            "Epoch 233/400\n",
            "128/128 [==============================] - 0s 2ms/step - loss: 4308773888.0000 - val_loss: 4371784192.0000\n",
            "Epoch 234/400\n",
            "128/128 [==============================] - 0s 2ms/step - loss: 4311450624.0000 - val_loss: 4371787264.0000\n",
            "Epoch 235/400\n",
            "128/128 [==============================] - 0s 2ms/step - loss: 4314907648.0000 - val_loss: 4386875392.0000\n",
            "Epoch 236/400\n",
            "128/128 [==============================] - 0s 2ms/step - loss: 4303790080.0000 - val_loss: 4365948416.0000\n",
            "Epoch 237/400\n",
            "128/128 [==============================] - 0s 2ms/step - loss: 4306374144.0000 - val_loss: 4368507392.0000\n",
            "Epoch 238/400\n",
            "128/128 [==============================] - 0s 2ms/step - loss: 4307988992.0000 - val_loss: 4367579648.0000\n",
            "Epoch 239/400\n",
            "128/128 [==============================] - 0s 2ms/step - loss: 4305655808.0000 - val_loss: 4363778048.0000\n",
            "Epoch 240/400\n",
            "128/128 [==============================] - 0s 2ms/step - loss: 4303952384.0000 - val_loss: 4361814016.0000\n",
            "Epoch 241/400\n",
            "128/128 [==============================] - 0s 2ms/step - loss: 4302305792.0000 - val_loss: 4370151424.0000\n",
            "Epoch 242/400\n",
            "128/128 [==============================] - 0s 2ms/step - loss: 4303710720.0000 - val_loss: 4360609280.0000\n",
            "Epoch 243/400\n",
            "128/128 [==============================] - 0s 2ms/step - loss: 4302323200.0000 - val_loss: 4360057344.0000\n",
            "Epoch 244/400\n",
            "128/128 [==============================] - 0s 2ms/step - loss: 4298926080.0000 - val_loss: 4365805568.0000\n",
            "Epoch 245/400\n",
            "128/128 [==============================] - 0s 2ms/step - loss: 4301876224.0000 - val_loss: 4368765440.0000\n",
            "Epoch 246/400\n",
            "128/128 [==============================] - 0s 2ms/step - loss: 4297554432.0000 - val_loss: 4355409408.0000\n",
            "Epoch 247/400\n",
            "128/128 [==============================] - 0s 2ms/step - loss: 4297383424.0000 - val_loss: 4355068416.0000\n",
            "Epoch 248/400\n",
            "128/128 [==============================] - 0s 2ms/step - loss: 4298443264.0000 - val_loss: 4359832064.0000\n",
            "Epoch 249/400\n",
            "128/128 [==============================] - 0s 2ms/step - loss: 4297080832.0000 - val_loss: 4354955264.0000\n",
            "Epoch 250/400\n",
            "128/128 [==============================] - 0s 2ms/step - loss: 4297384448.0000 - val_loss: 4351670784.0000\n",
            "Epoch 251/400\n",
            "128/128 [==============================] - 0s 2ms/step - loss: 4293614336.0000 - val_loss: 4349159424.0000\n",
            "Epoch 252/400\n",
            "128/128 [==============================] - 0s 2ms/step - loss: 4292769024.0000 - val_loss: 4356721664.0000\n",
            "Epoch 253/400\n",
            "128/128 [==============================] - 0s 2ms/step - loss: 4290321408.0000 - val_loss: 4349339648.0000\n",
            "Epoch 254/400\n",
            "128/128 [==============================] - 0s 2ms/step - loss: 4291280384.0000 - val_loss: 4346970624.0000\n",
            "Epoch 255/400\n",
            "128/128 [==============================] - 0s 2ms/step - loss: 4288740352.0000 - val_loss: 4349788672.0000\n",
            "Epoch 256/400\n",
            "128/128 [==============================] - 0s 2ms/step - loss: 4289201408.0000 - val_loss: 4347243008.0000\n",
            "Epoch 257/400\n",
            "128/128 [==============================] - 0s 2ms/step - loss: 4289228800.0000 - val_loss: 4344686080.0000\n",
            "Epoch 258/400\n",
            "128/128 [==============================] - 0s 2ms/step - loss: 4287324928.0000 - val_loss: 4347049984.0000\n",
            "Epoch 259/400\n",
            "128/128 [==============================] - 0s 2ms/step - loss: 4287258624.0000 - val_loss: 4342062592.0000\n",
            "Epoch 260/400\n",
            "128/128 [==============================] - 0s 2ms/step - loss: 4287121152.0000 - val_loss: 4347166720.0000\n",
            "Epoch 261/400\n",
            "128/128 [==============================] - 0s 2ms/step - loss: 4282482688.0000 - val_loss: 4356896256.0000\n",
            "Epoch 262/400\n",
            "128/128 [==============================] - 0s 2ms/step - loss: 4281728000.0000 - val_loss: 4339801600.0000\n",
            "Epoch 263/400\n",
            "128/128 [==============================] - 0s 2ms/step - loss: 4284297472.0000 - val_loss: 4347253760.0000\n",
            "Epoch 264/400\n",
            "128/128 [==============================] - 0s 2ms/step - loss: 4285384448.0000 - val_loss: 4340564480.0000\n",
            "Epoch 265/400\n",
            "128/128 [==============================] - 0s 2ms/step - loss: 4279938816.0000 - val_loss: 4336496128.0000\n",
            "Epoch 266/400\n",
            "128/128 [==============================] - 0s 2ms/step - loss: 4280960256.0000 - val_loss: 4334687232.0000\n",
            "Epoch 267/400\n",
            "128/128 [==============================] - 0s 2ms/step - loss: 4273483520.0000 - val_loss: 4336213504.0000\n",
            "Epoch 268/400\n",
            "128/128 [==============================] - 0s 2ms/step - loss: 4275302144.0000 - val_loss: 4330628608.0000\n",
            "Epoch 269/400\n",
            "128/128 [==============================] - 0s 2ms/step - loss: 4272877056.0000 - val_loss: 4346148352.0000\n",
            "Epoch 270/400\n",
            "128/128 [==============================] - 0s 2ms/step - loss: 4272607488.0000 - val_loss: 4338942464.0000\n",
            "Epoch 271/400\n",
            "128/128 [==============================] - 0s 2ms/step - loss: 4271748352.0000 - val_loss: 4325436928.0000\n",
            "Epoch 272/400\n",
            "128/128 [==============================] - 0s 2ms/step - loss: 4270689536.0000 - val_loss: 4327470592.0000\n",
            "Epoch 273/400\n",
            "128/128 [==============================] - 0s 2ms/step - loss: 4270604288.0000 - val_loss: 4322531328.0000\n",
            "Epoch 274/400\n",
            "128/128 [==============================] - 0s 2ms/step - loss: 4269571072.0000 - val_loss: 4324030976.0000\n",
            "Epoch 275/400\n",
            "128/128 [==============================] - 0s 2ms/step - loss: 4267535872.0000 - val_loss: 4325398528.0000\n",
            "Epoch 276/400\n",
            "128/128 [==============================] - 0s 2ms/step - loss: 4266019840.0000 - val_loss: 4319137280.0000\n",
            "Epoch 277/400\n",
            "128/128 [==============================] - 0s 2ms/step - loss: 4264030976.0000 - val_loss: 4316823552.0000\n",
            "Epoch 278/400\n",
            "128/128 [==============================] - 0s 2ms/step - loss: 4263442688.0000 - val_loss: 4314669568.0000\n",
            "Epoch 279/400\n",
            "128/128 [==============================] - 0s 2ms/step - loss: 4262552064.0000 - val_loss: 4324200448.0000\n",
            "Epoch 280/400\n",
            "128/128 [==============================] - 0s 2ms/step - loss: 4260656896.0000 - val_loss: 4312635392.0000\n",
            "Epoch 281/400\n",
            "128/128 [==============================] - 0s 2ms/step - loss: 4258292480.0000 - val_loss: 4310596608.0000\n",
            "Epoch 282/400\n",
            "128/128 [==============================] - 0s 2ms/step - loss: 4259838720.0000 - val_loss: 4311502848.0000\n",
            "Epoch 283/400\n",
            "128/128 [==============================] - 0s 2ms/step - loss: 4260275968.0000 - val_loss: 4307828224.0000\n",
            "Epoch 284/400\n",
            "128/128 [==============================] - 0s 2ms/step - loss: 4253248256.0000 - val_loss: 4306137088.0000\n",
            "Epoch 285/400\n",
            "128/128 [==============================] - 0s 2ms/step - loss: 4259374336.0000 - val_loss: 4315958784.0000\n",
            "Epoch 286/400\n",
            "128/128 [==============================] - 0s 2ms/step - loss: 4251584512.0000 - val_loss: 4304660480.0000\n",
            "Epoch 287/400\n",
            "128/128 [==============================] - 0s 2ms/step - loss: 4249726464.0000 - val_loss: 4300902400.0000\n",
            "Epoch 288/400\n",
            "128/128 [==============================] - 0s 2ms/step - loss: 4246145280.0000 - val_loss: 4337383424.0000\n",
            "Epoch 289/400\n",
            "128/128 [==============================] - 0s 2ms/step - loss: 4250816512.0000 - val_loss: 4297906176.0000\n",
            "Epoch 290/400\n",
            "128/128 [==============================] - 0s 2ms/step - loss: 4249675264.0000 - val_loss: 4296284672.0000\n",
            "Epoch 291/400\n",
            "128/128 [==============================] - 0s 2ms/step - loss: 4245115392.0000 - val_loss: 4305478144.0000\n",
            "Epoch 292/400\n",
            "128/128 [==============================] - 0s 2ms/step - loss: 4241536768.0000 - val_loss: 4306788352.0000\n",
            "Epoch 293/400\n",
            "128/128 [==============================] - 0s 2ms/step - loss: 4240133632.0000 - val_loss: 4292417280.0000\n",
            "Epoch 294/400\n",
            "128/128 [==============================] - 0s 2ms/step - loss: 4240850688.0000 - val_loss: 4296731136.0000\n",
            "Epoch 295/400\n",
            "128/128 [==============================] - 0s 2ms/step - loss: 4240227328.0000 - val_loss: 4289163520.0000\n",
            "Epoch 296/400\n",
            "128/128 [==============================] - 0s 2ms/step - loss: 4235666176.0000 - val_loss: 4319336448.0000\n",
            "Epoch 297/400\n",
            "128/128 [==============================] - 0s 2ms/step - loss: 4235674368.0000 - val_loss: 4290687232.0000\n",
            "Epoch 298/400\n",
            "128/128 [==============================] - 0s 2ms/step - loss: 4237268480.0000 - val_loss: 4286611712.0000\n",
            "Epoch 299/400\n",
            "128/128 [==============================] - 0s 2ms/step - loss: 4231836672.0000 - val_loss: 4288694016.0000\n",
            "Epoch 300/400\n",
            "128/128 [==============================] - 0s 2ms/step - loss: 4229042688.0000 - val_loss: 4293975552.0000\n",
            "Epoch 301/400\n",
            "128/128 [==============================] - 0s 2ms/step - loss: 4228352256.0000 - val_loss: 4280886016.0000\n",
            "Epoch 302/400\n",
            "128/128 [==============================] - 0s 2ms/step - loss: 4228610048.0000 - val_loss: 4288373760.0000\n",
            "Epoch 303/400\n",
            "128/128 [==============================] - 0s 2ms/step - loss: 4225101312.0000 - val_loss: 4277223168.0000\n",
            "Epoch 304/400\n",
            "128/128 [==============================] - 0s 2ms/step - loss: 4225753600.0000 - val_loss: 4276822272.0000\n",
            "Epoch 305/400\n",
            "128/128 [==============================] - 0s 2ms/step - loss: 4223119872.0000 - val_loss: 4275823616.0000\n",
            "Epoch 306/400\n",
            "128/128 [==============================] - 0s 2ms/step - loss: 4220740352.0000 - val_loss: 4273231616.0000\n",
            "Epoch 307/400\n",
            "128/128 [==============================] - 0s 2ms/step - loss: 4218828544.0000 - val_loss: 4290115072.0000\n",
            "Epoch 308/400\n",
            "128/128 [==============================] - 0s 2ms/step - loss: 4215941376.0000 - val_loss: 4272040192.0000\n",
            "Epoch 309/400\n",
            "128/128 [==============================] - 0s 2ms/step - loss: 4216493824.0000 - val_loss: 4271521536.0000\n",
            "Epoch 310/400\n",
            "128/128 [==============================] - 0s 2ms/step - loss: 4217478656.0000 - val_loss: 4265663488.0000\n",
            "Epoch 311/400\n",
            "128/128 [==============================] - 0s 2ms/step - loss: 4211314176.0000 - val_loss: 4267035648.0000\n",
            "Epoch 312/400\n",
            "128/128 [==============================] - 0s 2ms/step - loss: 4209909504.0000 - val_loss: 4289740288.0000\n",
            "Epoch 313/400\n",
            "128/128 [==============================] - 0s 2ms/step - loss: 4208574464.0000 - val_loss: 4269216768.0000\n",
            "Epoch 314/400\n",
            "128/128 [==============================] - 0s 2ms/step - loss: 4208776192.0000 - val_loss: 4263032576.0000\n",
            "Epoch 315/400\n",
            "128/128 [==============================] - 0s 2ms/step - loss: 4208085760.0000 - val_loss: 4260802560.0000\n",
            "Epoch 316/400\n",
            "128/128 [==============================] - 0s 2ms/step - loss: 4202913280.0000 - val_loss: 4257766400.0000\n",
            "Epoch 317/400\n",
            "128/128 [==============================] - 0s 2ms/step - loss: 4201990656.0000 - val_loss: 4254069504.0000\n",
            "Epoch 318/400\n",
            "128/128 [==============================] - 0s 2ms/step - loss: 4198717696.0000 - val_loss: 4257935360.0000\n",
            "Epoch 319/400\n",
            "128/128 [==============================] - 0s 2ms/step - loss: 4195451392.0000 - val_loss: 4253105152.0000\n",
            "Epoch 320/400\n",
            "128/128 [==============================] - 0s 2ms/step - loss: 4192049408.0000 - val_loss: 4246701568.0000\n",
            "Epoch 321/400\n",
            "128/128 [==============================] - 0s 2ms/step - loss: 4191319808.0000 - val_loss: 4250327552.0000\n",
            "Epoch 322/400\n",
            "128/128 [==============================] - 0s 2ms/step - loss: 4192166144.0000 - val_loss: 4244819712.0000\n",
            "Epoch 323/400\n",
            "128/128 [==============================] - 0s 2ms/step - loss: 4186275584.0000 - val_loss: 4241194496.0000\n",
            "Epoch 324/400\n",
            "128/128 [==============================] - 0s 2ms/step - loss: 4184838912.0000 - val_loss: 4239519488.0000\n",
            "Epoch 325/400\n",
            "128/128 [==============================] - 0s 2ms/step - loss: 4182394112.0000 - val_loss: 4251713280.0000\n",
            "Epoch 326/400\n",
            "128/128 [==============================] - 0s 2ms/step - loss: 4180224768.0000 - val_loss: 4236839168.0000\n",
            "Epoch 327/400\n",
            "128/128 [==============================] - 0s 2ms/step - loss: 4176340992.0000 - val_loss: 4237558528.0000\n",
            "Epoch 328/400\n",
            "128/128 [==============================] - 0s 2ms/step - loss: 4175224320.0000 - val_loss: 4230507264.0000\n",
            "Epoch 329/400\n",
            "128/128 [==============================] - 0s 2ms/step - loss: 4172749056.0000 - val_loss: 4228041472.0000\n",
            "Epoch 330/400\n",
            "128/128 [==============================] - 0s 2ms/step - loss: 4170988032.0000 - val_loss: 4232345600.0000\n",
            "Epoch 331/400\n",
            "128/128 [==============================] - 0s 2ms/step - loss: 4167294208.0000 - val_loss: 4223693312.0000\n",
            "Epoch 332/400\n",
            "128/128 [==============================] - 0s 2ms/step - loss: 4164421888.0000 - val_loss: 4224202496.0000\n",
            "Epoch 333/400\n",
            "128/128 [==============================] - 0s 2ms/step - loss: 4163974400.0000 - val_loss: 4217306624.0000\n",
            "Epoch 334/400\n",
            "128/128 [==============================] - 0s 2ms/step - loss: 4157407488.0000 - val_loss: 4225406976.0000\n",
            "Epoch 335/400\n",
            "128/128 [==============================] - 0s 2ms/step - loss: 4159475712.0000 - val_loss: 4214501888.0000\n",
            "Epoch 336/400\n",
            "128/128 [==============================] - 0s 2ms/step - loss: 4154386944.0000 - val_loss: 4217940480.0000\n",
            "Epoch 337/400\n",
            "128/128 [==============================] - 0s 2ms/step - loss: 4151653888.0000 - val_loss: 4208892416.0000\n",
            "Epoch 338/400\n",
            "128/128 [==============================] - 0s 2ms/step - loss: 4147116800.0000 - val_loss: 4225664768.0000\n",
            "Epoch 339/400\n",
            "128/128 [==============================] - 0s 2ms/step - loss: 4145189888.0000 - val_loss: 4205356032.0000\n",
            "Epoch 340/400\n",
            "128/128 [==============================] - 0s 2ms/step - loss: 4140351488.0000 - val_loss: 4197953536.0000\n",
            "Epoch 341/400\n",
            "128/128 [==============================] - 0s 2ms/step - loss: 4140800256.0000 - val_loss: 4198399744.0000\n",
            "Epoch 342/400\n",
            "128/128 [==============================] - 0s 2ms/step - loss: 4138747392.0000 - val_loss: 4196602368.0000\n",
            "Epoch 343/400\n",
            "128/128 [==============================] - 0s 2ms/step - loss: 4131768320.0000 - val_loss: 4188984064.0000\n",
            "Epoch 344/400\n",
            "128/128 [==============================] - 0s 2ms/step - loss: 4126368256.0000 - val_loss: 4200784128.0000\n",
            "Epoch 345/400\n",
            "128/128 [==============================] - 0s 2ms/step - loss: 4126686208.0000 - val_loss: 4182197248.0000\n",
            "Epoch 346/400\n",
            "128/128 [==============================] - 0s 2ms/step - loss: 4122004736.0000 - val_loss: 4206411776.0000\n",
            "Epoch 347/400\n",
            "128/128 [==============================] - 0s 2ms/step - loss: 4118310400.0000 - val_loss: 4185659392.0000\n",
            "Epoch 348/400\n",
            "128/128 [==============================] - 0s 2ms/step - loss: 4118068992.0000 - val_loss: 4178697472.0000\n",
            "Epoch 349/400\n",
            "128/128 [==============================] - 0s 2ms/step - loss: 4113425408.0000 - val_loss: 4173396992.0000\n",
            "Epoch 350/400\n",
            "128/128 [==============================] - 0s 2ms/step - loss: 4111006208.0000 - val_loss: 4171751168.0000\n",
            "Epoch 351/400\n",
            "128/128 [==============================] - 0s 2ms/step - loss: 4110991104.0000 - val_loss: 4166119680.0000\n",
            "Epoch 352/400\n",
            "128/128 [==============================] - 0s 2ms/step - loss: 4101306880.0000 - val_loss: 4191649536.0000\n",
            "Epoch 353/400\n",
            "128/128 [==============================] - 0s 2ms/step - loss: 4103127552.0000 - val_loss: 4181412352.0000\n",
            "Epoch 354/400\n",
            "128/128 [==============================] - 0s 2ms/step - loss: 4095227904.0000 - val_loss: 4159032576.0000\n",
            "Epoch 355/400\n",
            "128/128 [==============================] - 0s 2ms/step - loss: 4094030592.0000 - val_loss: 4154750464.0000\n",
            "Epoch 356/400\n",
            "128/128 [==============================] - 0s 2ms/step - loss: 4088583936.0000 - val_loss: 4154762752.0000\n",
            "Epoch 357/400\n",
            "128/128 [==============================] - 0s 2ms/step - loss: 4085988864.0000 - val_loss: 4172824064.0000\n",
            "Epoch 358/400\n",
            "128/128 [==============================] - 0s 2ms/step - loss: 4079473152.0000 - val_loss: 4146655488.0000\n",
            "Epoch 359/400\n",
            "128/128 [==============================] - 0s 2ms/step - loss: 4076410368.0000 - val_loss: 4141802240.0000\n",
            "Epoch 360/400\n",
            "128/128 [==============================] - 0s 2ms/step - loss: 4071356416.0000 - val_loss: 4155142400.0000\n",
            "Epoch 361/400\n",
            "128/128 [==============================] - 0s 2ms/step - loss: 4069412096.0000 - val_loss: 4134926080.0000\n",
            "Epoch 362/400\n",
            "128/128 [==============================] - 0s 2ms/step - loss: 4063517440.0000 - val_loss: 4168317696.0000\n",
            "Epoch 363/400\n",
            "128/128 [==============================] - 0s 2ms/step - loss: 4063454464.0000 - val_loss: 4136468224.0000\n",
            "Epoch 364/400\n",
            "128/128 [==============================] - 0s 2ms/step - loss: 4055107072.0000 - val_loss: 4142059776.0000\n",
            "Epoch 365/400\n",
            "128/128 [==============================] - 0s 2ms/step - loss: 4051604224.0000 - val_loss: 4134323712.0000\n",
            "Epoch 366/400\n",
            "128/128 [==============================] - 0s 2ms/step - loss: 4047629312.0000 - val_loss: 4119498752.0000\n",
            "Epoch 367/400\n",
            "128/128 [==============================] - 0s 2ms/step - loss: 4044817408.0000 - val_loss: 4121515776.0000\n",
            "Epoch 368/400\n",
            "128/128 [==============================] - 0s 2ms/step - loss: 4038140672.0000 - val_loss: 4122878720.0000\n",
            "Epoch 369/400\n",
            "128/128 [==============================] - 0s 2ms/step - loss: 4039035904.0000 - val_loss: 4116411136.0000\n",
            "Epoch 370/400\n",
            "128/128 [==============================] - 0s 2ms/step - loss: 4028813568.0000 - val_loss: 4103841536.0000\n",
            "Epoch 371/400\n",
            "128/128 [==============================] - 0s 2ms/step - loss: 4026320128.0000 - val_loss: 4101925632.0000\n",
            "Epoch 372/400\n",
            "128/128 [==============================] - 0s 2ms/step - loss: 4019323136.0000 - val_loss: 4096476928.0000\n",
            "Epoch 373/400\n",
            "128/128 [==============================] - 0s 2ms/step - loss: 4016644608.0000 - val_loss: 4102849792.0000\n",
            "Epoch 374/400\n",
            "128/128 [==============================] - 0s 2ms/step - loss: 4012432640.0000 - val_loss: 4092950784.0000\n",
            "Epoch 375/400\n",
            "128/128 [==============================] - 0s 2ms/step - loss: 4008123136.0000 - val_loss: 4090815488.0000\n",
            "Epoch 376/400\n",
            "128/128 [==============================] - 0s 2ms/step - loss: 4001514240.0000 - val_loss: 4083593216.0000\n",
            "Epoch 377/400\n",
            "128/128 [==============================] - 0s 2ms/step - loss: 4001818368.0000 - val_loss: 4092828928.0000\n",
            "Epoch 378/400\n",
            "128/128 [==============================] - 0s 2ms/step - loss: 3990953472.0000 - val_loss: 4085035520.0000\n",
            "Epoch 379/400\n",
            "128/128 [==============================] - 0s 2ms/step - loss: 3988753408.0000 - val_loss: 4086457600.0000\n",
            "Epoch 380/400\n",
            "128/128 [==============================] - 0s 2ms/step - loss: 3984544512.0000 - val_loss: 4068094464.0000\n",
            "Epoch 381/400\n",
            "128/128 [==============================] - 0s 2ms/step - loss: 3981579008.0000 - val_loss: 4065038848.0000\n",
            "Epoch 382/400\n",
            "128/128 [==============================] - 0s 2ms/step - loss: 3974817536.0000 - val_loss: 4064100096.0000\n",
            "Epoch 383/400\n",
            "128/128 [==============================] - 0s 2ms/step - loss: 3974029312.0000 - val_loss: 4070325760.0000\n",
            "Epoch 384/400\n",
            "128/128 [==============================] - 0s 2ms/step - loss: 3965786880.0000 - val_loss: 4064902656.0000\n",
            "Epoch 385/400\n",
            "128/128 [==============================] - 0s 2ms/step - loss: 3960917248.0000 - val_loss: 4063945472.0000\n",
            "Epoch 386/400\n",
            "128/128 [==============================] - 0s 2ms/step - loss: 3957239552.0000 - val_loss: 4053772800.0000\n",
            "Epoch 387/400\n",
            "128/128 [==============================] - 0s 2ms/step - loss: 3958786048.0000 - val_loss: 4047938560.0000\n",
            "Epoch 388/400\n",
            "128/128 [==============================] - 0s 2ms/step - loss: 3950056960.0000 - val_loss: 4056181760.0000\n",
            "Epoch 389/400\n",
            "128/128 [==============================] - 0s 2ms/step - loss: 3944454656.0000 - val_loss: 4053612800.0000\n",
            "Epoch 390/400\n",
            "128/128 [==============================] - 0s 2ms/step - loss: 3937704960.0000 - val_loss: 4038108672.0000\n",
            "Epoch 391/400\n",
            "128/128 [==============================] - 0s 2ms/step - loss: 3936824320.0000 - val_loss: 4032173312.0000\n",
            "Epoch 392/400\n",
            "128/128 [==============================] - 0s 2ms/step - loss: 3936935680.0000 - val_loss: 4057905408.0000\n",
            "Epoch 393/400\n",
            "128/128 [==============================] - 0s 2ms/step - loss: 3933267968.0000 - val_loss: 4025626368.0000\n",
            "Epoch 394/400\n",
            "128/128 [==============================] - 0s 2ms/step - loss: 3923406080.0000 - val_loss: 4021168896.0000\n",
            "Epoch 395/400\n",
            "128/128 [==============================] - 0s 2ms/step - loss: 3922909184.0000 - val_loss: 4022422016.0000\n",
            "Epoch 396/400\n",
            "128/128 [==============================] - 0s 2ms/step - loss: 3914464256.0000 - val_loss: 4023693824.0000\n",
            "Epoch 397/400\n",
            "128/128 [==============================] - 0s 2ms/step - loss: 3912700672.0000 - val_loss: 4029373696.0000\n",
            "Epoch 398/400\n",
            "128/128 [==============================] - 0s 2ms/step - loss: 3907152384.0000 - val_loss: 4009598720.0000\n",
            "Epoch 399/400\n",
            "128/128 [==============================] - 0s 2ms/step - loss: 3903938816.0000 - val_loss: 4010192640.0000\n",
            "Epoch 400/400\n",
            "128/128 [==============================] - 0s 2ms/step - loss: 3900081408.0000 - val_loss: 4016188416.0000\n"
          ],
          "name": "stdout"
        },
        {
          "output_type": "execute_result",
          "data": {
            "text/plain": [
              "<tensorflow.python.keras.callbacks.History at 0x7f3f6aa74780>"
            ]
          },
          "metadata": {
            "tags": []
          },
          "execution_count": 22
        }
      ]
    },
    {
      "cell_type": "code",
      "metadata": {
        "id": "JyMNS2Gtr1AW",
        "colab": {
          "base_uri": "https://localhost:8080/",
          "height": 293
        },
        "outputId": "bcb52046-47a6-4bdb-f71b-c5c199de7377"
      },
      "source": [
        "losses = pd.DataFrame(model.history.history)\n",
        "losses.plot()"
      ],
      "execution_count": null,
      "outputs": [
        {
          "output_type": "execute_result",
          "data": {
            "text/plain": [
              "<matplotlib.axes._subplots.AxesSubplot at 0x7f3f6aa08ba8>"
            ]
          },
          "metadata": {
            "tags": []
          },
          "execution_count": 23
        },
        {
          "output_type": "display_data",
          "data": {
            "image/png": "[encoded data removed]",
            "text/plain": [
              "<Figure size 432x288 with 1 Axes>"
            ]
          },
          "metadata": {
            "tags": [],
            "needs_background": "light"
          }
        }
      ]
    },
    {
      "cell_type": "markdown",
      "metadata": {
        "id": "RkS0-U05sIep"
      },
      "source": [
        "### Evaluation"
      ]
    },
    {
      "cell_type": "code",
      "metadata": {
        "id": "UAK3zZ5qsCDu"
      },
      "source": [
        "from sklearn.metrics import mean_squared_error,mean_absolute_error\n",
        "\n",
        "predictions = model.predict(X_test)"
      ],
      "execution_count": null,
      "outputs": []
    },
    {
      "cell_type": "code",
      "metadata": {
        "id": "NXC5_1h-sMmM",
        "colab": {
          "base_uri": "https://localhost:8080/"
        },
        "outputId": "b6d32c80-0d84-4de7-a902-c302c2972b44"
      },
      "source": [
        " print(\"Mean Absolute Error: \", mean_absolute_error(y_test,predictions), \n",
        "      \"\\nRoot Mean Squared Error: \", np.sqrt(mean_squared_error(y_test,predictions)))"
      ],
      "execution_count": null,
      "outputs": [
        {
          "output_type": "stream",
          "text": [
            "Mean Absolute Error:  44448.023016003484 \n",
            "Root Mean Squared Error:  63373.40810575156\n"
          ],
          "name": "stdout"
        }
      ]
    },
    {
      "cell_type": "markdown",
      "metadata": {
        "id": "Xxz0iS8vsu9w"
      },
      "source": [
        "### Testing new sample"
      ]
    },
    {
      "cell_type": "code",
      "metadata": {
        "id": "RY_ycg4osxio",
        "colab": {
          "base_uri": "https://localhost:8080/"
        },
        "outputId": "756a70da-3d94-4aa7-c131-a0a57f8a8a10"
      },
      "source": [
        "df.head()"
      ],
      "execution_count": null,
      "outputs": [
        {
          "output_type": "execute_result",
          "data": {
            "text/html": [
              "<div>\n",
              "<style scoped>\n",
              "    .dataframe tbody tr th:only-of-type {\n",
              "        vertical-align: middle;\n",
              "    }\n",
              "\n",
              "    .dataframe tbody tr th {\n",
              "        vertical-align: top;\n",
              "    }\n",
              "\n",
              "    .dataframe thead th {\n",
              "        text-align: right;\n",
              "    }\n",
              "</style>\n",
              "<table border=\"1\" class=\"dataframe\">\n",
              "  <thead>\n",
              "    <tr style=\"text-align: right;\">\n",
              "      <th></th>\n",
              "      <th>longitude</th>\n",
              "      <th>latitude</th>\n",
              "      <th>housing_median_age</th>\n",
              "      <th>total_rooms</th>\n",
              "      <th>total_bedrooms</th>\n",
              "      <th>population</th>\n",
              "      <th>households</th>\n",
              "      <th>median_income</th>\n",
              "      <th>median_house_value</th>\n",
              "    </tr>\n",
              "  </thead>\n",
              "  <tbody>\n",
              "    <tr>\n",
              "      <th>0</th>\n",
              "      <td>-122.23</td>\n",
              "      <td>37.88</td>\n",
              "      <td>41.0</td>\n",
              "      <td>880.0</td>\n",
              "      <td>129.0</td>\n",
              "      <td>322.0</td>\n",
              "      <td>126.0</td>\n",
              "      <td>8.3252</td>\n",
              "      <td>452600.0</td>\n",
              "    </tr>\n",
              "    <tr>\n",
              "      <th>1</th>\n",
              "      <td>-122.22</td>\n",
              "      <td>37.86</td>\n",
              "      <td>21.0</td>\n",
              "      <td>7099.0</td>\n",
              "      <td>1106.0</td>\n",
              "      <td>2401.0</td>\n",
              "      <td>1138.0</td>\n",
              "      <td>8.3014</td>\n",
              "      <td>358500.0</td>\n",
              "    </tr>\n",
              "    <tr>\n",
              "      <th>2</th>\n",
              "      <td>-122.24</td>\n",
              "      <td>37.85</td>\n",
              "      <td>52.0</td>\n",
              "      <td>1467.0</td>\n",
              "      <td>190.0</td>\n",
              "      <td>496.0</td>\n",
              "      <td>177.0</td>\n",
              "      <td>7.2574</td>\n",
              "      <td>352100.0</td>\n",
              "    </tr>\n",
              "    <tr>\n",
              "      <th>3</th>\n",
              "      <td>-122.25</td>\n",
              "      <td>37.85</td>\n",
              "      <td>52.0</td>\n",
              "      <td>1274.0</td>\n",
              "      <td>235.0</td>\n",
              "      <td>558.0</td>\n",
              "      <td>219.0</td>\n",
              "      <td>5.6431</td>\n",
              "      <td>341300.0</td>\n",
              "    </tr>\n",
              "    <tr>\n",
              "      <th>4</th>\n",
              "      <td>-122.25</td>\n",
              "      <td>37.85</td>\n",
              "      <td>52.0</td>\n",
              "      <td>1627.0</td>\n",
              "      <td>280.0</td>\n",
              "      <td>565.0</td>\n",
              "      <td>259.0</td>\n",
              "      <td>3.8462</td>\n",
              "      <td>342200.0</td>\n",
              "    </tr>\n",
              "  </tbody>\n",
              "</table>\n",
              "</div>"
            ],
            "text/plain": [
              "   longitude  latitude  ...  median_income  median_house_value\n",
              "0    -122.23     37.88  ...         8.3252            452600.0\n",
              "1    -122.22     37.86  ...         8.3014            358500.0\n",
              "2    -122.24     37.85  ...         7.2574            352100.0\n",
              "3    -122.25     37.85  ...         5.6431            341300.0\n",
              "4    -122.25     37.85  ...         3.8462            342200.0\n",
              "\n",
              "[5 rows x 9 columns]"
            ]
          },
          "metadata": {
            "tags": []
          },
          "execution_count": 26
        }
      ]
    },
    {
      "cell_type": "code",
      "metadata": {
        "id": "aXceW4S1saku"
      },
      "source": [
        "X_sample = [[-122.23, 37.88, 41.0, 880.0, 129.0, 322.0, 126.0, 8.3252]]\n",
        "X_sample = scaler.transform(X_sample)"
      ],
      "execution_count": null,
      "outputs": []
    },
    {
      "cell_type": "code",
      "metadata": {
        "id": "-ktwLZB8tBnL",
        "colab": {
          "base_uri": "https://localhost:8080/"
        },
        "outputId": "1d833b9d-e787-4aa7-ed3d-96c3890e4d73"
      },
      "source": [
        "sample_prediction = model.predict(X_sample)\n",
        "sample_prediction"
      ],
      "execution_count": null,
      "outputs": [
        {
          "output_type": "execute_result",
          "data": {
            "text/plain": [
              "array([[432382.06]], dtype=float32)"
            ]
          },
          "metadata": {
            "tags": []
          },
          "execution_count": 28
        }
      ]
    },
    {
      "cell_type": "code",
      "metadata": {
        "id": "lUx0qu7UtKPd"
      },
      "source": [
        ""
      ],
      "execution_count": null,
      "outputs": []
    }
  ]
}